{
 "cells": [
  {
   "cell_type": "code",
   "execution_count": 14,
   "metadata": {},
   "outputs": [],
   "source": [
    "import pandas as pd\n",
    "import matplotlib.pyplot as plt"
   ]
  },
  {
   "cell_type": "code",
   "execution_count": 11,
   "metadata": {},
   "outputs": [
    {
     "data": {
      "text/html": [
       "<div>\n",
       "<style scoped>\n",
       "    .dataframe tbody tr th:only-of-type {\n",
       "        vertical-align: middle;\n",
       "    }\n",
       "\n",
       "    .dataframe tbody tr th {\n",
       "        vertical-align: top;\n",
       "    }\n",
       "\n",
       "    .dataframe thead th {\n",
       "        text-align: right;\n",
       "    }\n",
       "</style>\n",
       "<table border=\"1\" class=\"dataframe\">\n",
       "  <thead>\n",
       "    <tr style=\"text-align: right;\">\n",
       "      <th></th>\n",
       "      <th>Geneid</th>\n",
       "      <th>bwa</th>\n",
       "    </tr>\n",
       "  </thead>\n",
       "  <tbody>\n",
       "    <tr>\n",
       "      <th>0</th>\n",
       "      <td>ENSRNOT00000080234_34129</td>\n",
       "      <td>2</td>\n",
       "    </tr>\n",
       "    <tr>\n",
       "      <th>1</th>\n",
       "      <td>ENSRNOT00000059468_34130</td>\n",
       "      <td>416</td>\n",
       "    </tr>\n",
       "    <tr>\n",
       "      <th>2</th>\n",
       "      <td>ENSRNOT00000060258_34131</td>\n",
       "      <td>168</td>\n",
       "    </tr>\n",
       "    <tr>\n",
       "      <th>3</th>\n",
       "      <td>ENSRNOT00000075229_34132</td>\n",
       "      <td>0</td>\n",
       "    </tr>\n",
       "    <tr>\n",
       "      <th>4</th>\n",
       "      <td>ENSRNOT00000010059_34133</td>\n",
       "      <td>5</td>\n",
       "    </tr>\n",
       "    <tr>\n",
       "      <th>...</th>\n",
       "      <td>...</td>\n",
       "      <td>...</td>\n",
       "    </tr>\n",
       "    <tr>\n",
       "      <th>22248</th>\n",
       "      <td>ENSRNOT00000072149_81786</td>\n",
       "      <td>3</td>\n",
       "    </tr>\n",
       "    <tr>\n",
       "      <th>22249</th>\n",
       "      <td>ENSRNOT00000012385_81787</td>\n",
       "      <td>0</td>\n",
       "    </tr>\n",
       "    <tr>\n",
       "      <th>22250</th>\n",
       "      <td>ENSRNOT00000012385_81788</td>\n",
       "      <td>0</td>\n",
       "    </tr>\n",
       "    <tr>\n",
       "      <th>22251</th>\n",
       "      <td>ENSRNOT00000008492_81789</td>\n",
       "      <td>10</td>\n",
       "    </tr>\n",
       "    <tr>\n",
       "      <th>22252</th>\n",
       "      <td>ENSRNOT00000008492_81790</td>\n",
       "      <td>2</td>\n",
       "    </tr>\n",
       "  </tbody>\n",
       "</table>\n",
       "<p>22253 rows × 2 columns</p>\n",
       "</div>"
      ],
      "text/plain": [
       "                         Geneid  bwa\n",
       "0      ENSRNOT00000080234_34129    2\n",
       "1      ENSRNOT00000059468_34130  416\n",
       "2      ENSRNOT00000060258_34131  168\n",
       "3      ENSRNOT00000075229_34132    0\n",
       "4      ENSRNOT00000010059_34133    5\n",
       "...                         ...  ...\n",
       "22248  ENSRNOT00000072149_81786    3\n",
       "22249  ENSRNOT00000012385_81787    0\n",
       "22250  ENSRNOT00000012385_81788    0\n",
       "22251  ENSRNOT00000008492_81789   10\n",
       "22252  ENSRNOT00000008492_81790    2\n",
       "\n",
       "[22253 rows x 2 columns]"
      ]
     },
     "execution_count": 11,
     "metadata": {},
     "output_type": "execute_result"
    }
   ],
   "source": [
    "bwa = pd.read_csv('bwa_test_count_table.csv')\n",
    "bwa = bwa.iloc[:,:-2]\n",
    "bwa = bwa.rename(columns={'first': 'bwa'})\n",
    "bwa\n",
    "\n"
   ]
  },
  {
   "cell_type": "code",
   "execution_count": 12,
   "metadata": {},
   "outputs": [
    {
     "data": {
      "text/html": [
       "<div>\n",
       "<style scoped>\n",
       "    .dataframe tbody tr th:only-of-type {\n",
       "        vertical-align: middle;\n",
       "    }\n",
       "\n",
       "    .dataframe tbody tr th {\n",
       "        vertical-align: top;\n",
       "    }\n",
       "\n",
       "    .dataframe thead th {\n",
       "        text-align: right;\n",
       "    }\n",
       "</style>\n",
       "<table border=\"1\" class=\"dataframe\">\n",
       "  <thead>\n",
       "    <tr style=\"text-align: right;\">\n",
       "      <th></th>\n",
       "      <th>Geneid</th>\n",
       "      <th>kallisto</th>\n",
       "    </tr>\n",
       "  </thead>\n",
       "  <tbody>\n",
       "    <tr>\n",
       "      <th>0</th>\n",
       "      <td>ENSRNOT00000080234_34129</td>\n",
       "      <td>2</td>\n",
       "    </tr>\n",
       "    <tr>\n",
       "      <th>1</th>\n",
       "      <td>ENSRNOT00000059468_34130</td>\n",
       "      <td>406</td>\n",
       "    </tr>\n",
       "    <tr>\n",
       "      <th>2</th>\n",
       "      <td>ENSRNOT00000060258_34131</td>\n",
       "      <td>163</td>\n",
       "    </tr>\n",
       "    <tr>\n",
       "      <th>3</th>\n",
       "      <td>ENSRNOT00000075229_34132</td>\n",
       "      <td>0</td>\n",
       "    </tr>\n",
       "    <tr>\n",
       "      <th>4</th>\n",
       "      <td>ENSRNOT00000010059_34133</td>\n",
       "      <td>5</td>\n",
       "    </tr>\n",
       "    <tr>\n",
       "      <th>...</th>\n",
       "      <td>...</td>\n",
       "      <td>...</td>\n",
       "    </tr>\n",
       "    <tr>\n",
       "      <th>22248</th>\n",
       "      <td>ENSRNOT00000072149_81786</td>\n",
       "      <td>3</td>\n",
       "    </tr>\n",
       "    <tr>\n",
       "      <th>22249</th>\n",
       "      <td>ENSRNOT00000012385_81787</td>\n",
       "      <td>0</td>\n",
       "    </tr>\n",
       "    <tr>\n",
       "      <th>22250</th>\n",
       "      <td>ENSRNOT00000012385_81788</td>\n",
       "      <td>0</td>\n",
       "    </tr>\n",
       "    <tr>\n",
       "      <th>22251</th>\n",
       "      <td>ENSRNOT00000008492_81789</td>\n",
       "      <td>9</td>\n",
       "    </tr>\n",
       "    <tr>\n",
       "      <th>22252</th>\n",
       "      <td>ENSRNOT00000008492_81790</td>\n",
       "      <td>1</td>\n",
       "    </tr>\n",
       "  </tbody>\n",
       "</table>\n",
       "<p>22253 rows × 2 columns</p>\n",
       "</div>"
      ],
      "text/plain": [
       "                         Geneid  kallisto\n",
       "0      ENSRNOT00000080234_34129         2\n",
       "1      ENSRNOT00000059468_34130       406\n",
       "2      ENSRNOT00000060258_34131       163\n",
       "3      ENSRNOT00000075229_34132         0\n",
       "4      ENSRNOT00000010059_34133         5\n",
       "...                         ...       ...\n",
       "22248  ENSRNOT00000072149_81786         3\n",
       "22249  ENSRNOT00000012385_81787         0\n",
       "22250  ENSRNOT00000012385_81788         0\n",
       "22251  ENSRNOT00000008492_81789         9\n",
       "22252  ENSRNOT00000008492_81790         1\n",
       "\n",
       "[22253 rows x 2 columns]"
      ]
     },
     "execution_count": 12,
     "metadata": {},
     "output_type": "execute_result"
    }
   ],
   "source": [
    "kallisto = pd.read_csv('kallisto_test_count_table.csv')\n",
    "kallisto = kallisto.iloc[:,:-2]\n",
    "kallisto = kallisto.rename(columns={'first': 'kallisto'})\n",
    "kallisto"
   ]
  },
  {
   "cell_type": "code",
   "execution_count": 13,
   "metadata": {},
   "outputs": [
    {
     "data": {
      "text/html": [
       "<div>\n",
       "<style scoped>\n",
       "    .dataframe tbody tr th:only-of-type {\n",
       "        vertical-align: middle;\n",
       "    }\n",
       "\n",
       "    .dataframe tbody tr th {\n",
       "        vertical-align: top;\n",
       "    }\n",
       "\n",
       "    .dataframe thead th {\n",
       "        text-align: right;\n",
       "    }\n",
       "</style>\n",
       "<table border=\"1\" class=\"dataframe\">\n",
       "  <thead>\n",
       "    <tr style=\"text-align: right;\">\n",
       "      <th></th>\n",
       "      <th>Geneid</th>\n",
       "      <th>star</th>\n",
       "    </tr>\n",
       "  </thead>\n",
       "  <tbody>\n",
       "    <tr>\n",
       "      <th>0</th>\n",
       "      <td>ENSRNOT00000080234_34129</td>\n",
       "      <td>2</td>\n",
       "    </tr>\n",
       "    <tr>\n",
       "      <th>1</th>\n",
       "      <td>ENSRNOT00000059468_34130</td>\n",
       "      <td>367</td>\n",
       "    </tr>\n",
       "    <tr>\n",
       "      <th>2</th>\n",
       "      <td>ENSRNOT00000060258_34131</td>\n",
       "      <td>150</td>\n",
       "    </tr>\n",
       "    <tr>\n",
       "      <th>3</th>\n",
       "      <td>ENSRNOT00000075229_34132</td>\n",
       "      <td>0</td>\n",
       "    </tr>\n",
       "    <tr>\n",
       "      <th>4</th>\n",
       "      <td>ENSRNOT00000010059_34133</td>\n",
       "      <td>5</td>\n",
       "    </tr>\n",
       "    <tr>\n",
       "      <th>...</th>\n",
       "      <td>...</td>\n",
       "      <td>...</td>\n",
       "    </tr>\n",
       "    <tr>\n",
       "      <th>22248</th>\n",
       "      <td>ENSRNOT00000072149_81786</td>\n",
       "      <td>3</td>\n",
       "    </tr>\n",
       "    <tr>\n",
       "      <th>22249</th>\n",
       "      <td>ENSRNOT00000012385_81787</td>\n",
       "      <td>0</td>\n",
       "    </tr>\n",
       "    <tr>\n",
       "      <th>22250</th>\n",
       "      <td>ENSRNOT00000012385_81788</td>\n",
       "      <td>0</td>\n",
       "    </tr>\n",
       "    <tr>\n",
       "      <th>22251</th>\n",
       "      <td>ENSRNOT00000008492_81789</td>\n",
       "      <td>7</td>\n",
       "    </tr>\n",
       "    <tr>\n",
       "      <th>22252</th>\n",
       "      <td>ENSRNOT00000008492_81790</td>\n",
       "      <td>1</td>\n",
       "    </tr>\n",
       "  </tbody>\n",
       "</table>\n",
       "<p>22253 rows × 2 columns</p>\n",
       "</div>"
      ],
      "text/plain": [
       "                         Geneid  star\n",
       "0      ENSRNOT00000080234_34129     2\n",
       "1      ENSRNOT00000059468_34130   367\n",
       "2      ENSRNOT00000060258_34131   150\n",
       "3      ENSRNOT00000075229_34132     0\n",
       "4      ENSRNOT00000010059_34133     5\n",
       "...                         ...   ...\n",
       "22248  ENSRNOT00000072149_81786     3\n",
       "22249  ENSRNOT00000012385_81787     0\n",
       "22250  ENSRNOT00000012385_81788     0\n",
       "22251  ENSRNOT00000008492_81789     7\n",
       "22252  ENSRNOT00000008492_81790     1\n",
       "\n",
       "[22253 rows x 2 columns]"
      ]
     },
     "execution_count": 13,
     "metadata": {},
     "output_type": "execute_result"
    }
   ],
   "source": [
    "star = pd.read_csv('star_test_count_table.csv')\n",
    "star = star.iloc[:,:-2]\n",
    "star = star.rename(columns={'first': 'star'})\n",
    "star"
   ]
  },
  {
   "cell_type": "code",
   "execution_count": 20,
   "metadata": {},
   "outputs": [
    {
     "data": {
      "image/png": "[encoded data removed]",
      "text/plain": [
       "<Figure size 640x480 with 1 Axes>"
      ]
     },
     "metadata": {},
     "output_type": "display_data"
    }
   ],
   "source": [
    "# Star vs kallisto\n",
    "plt.scatter(star.star, kallisto.kallisto)\n",
    "plt.xlim([0, 10000])\n",
    "plt.ylim([0,10000])\n",
    "plt.show()"
   ]
  },
  {
   "cell_type": "code",
   "execution_count": 21,
   "metadata": {},
   "outputs": [
    {
     "data": {
      "image/png": "[encoded data removed]",
      "text/plain": [
       "<Figure size 640x480 with 1 Axes>"
      ]
     },
     "metadata": {},
     "output_type": "display_data"
    }
   ],
   "source": [
    "# Star vs bwa\n",
    "plt.scatter(star.star, bwa.bwa)\n",
    "plt.xlim([0, 10000])\n",
    "plt.ylim([0,10000])\n",
    "plt.show()"
   ]
  },
  {
   "cell_type": "code",
   "execution_count": 22,
   "metadata": {},
   "outputs": [
    {
     "data": {
      "image/png": "[encoded data removed]",
      "text/plain": [
       "<Figure size 640x480 with 1 Axes>"
      ]
     },
     "metadata": {},
     "output_type": "display_data"
    }
   ],
   "source": [
    "# Bwa vs kallisto\n",
    "plt.scatter(bwa.bwa, kallisto.kallisto)\n",
    "plt.xlim([0, 10000])\n",
    "plt.ylim([0,10000])\n",
    "plt.show()"
   ]
  },
  {
   "cell_type": "code",
   "execution_count": 27,
   "metadata": {},
   "outputs": [],
   "source": [
    "#merge tables\n",
    "conc = bwa.merge(kallisto, on='Geneid')\n",
    "conc = conc.merge(star, on='Geneid')"
   ]
  },
  {
   "cell_type": "code",
   "execution_count": 29,
   "metadata": {},
   "outputs": [],
   "source": [
    "conc.to_csv('all_aligners_results.csv')"
   ]
  },
  {
   "cell_type": "code",
   "execution_count": null,
   "metadata": {},
   "outputs": [],
   "source": []
  }
 ],
 "metadata": {
  "kernelspec": {
   "display_name": "base",
   "language": "python",
   "name": "python3"
  },
  "language_info": {
   "codemirror_mode": {
    "name": "ipython",
    "version": 3
   },
   "file_extension": ".py",
   "mimetype": "text/x-python",
   "name": "python",
   "nbconvert_exporter": "python",
   "pygments_lexer": "ipython3",
   "version": "3.9.16"
  },
  "orig_nbformat": 4
 },
 "nbformat": 4,
 "nbformat_minor": 2
}
