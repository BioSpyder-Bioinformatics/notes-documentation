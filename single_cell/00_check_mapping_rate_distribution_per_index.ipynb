{
 "cells": [
  {
   "cell_type": "code",
   "execution_count": 74,
   "metadata": {},
   "outputs": [],
   "source": [
    "import pandas as pd\n",
    "import seaborn as sns\n",
    "import os\n"
   ]
  },
  {
   "cell_type": "code",
   "execution_count": 75,
   "metadata": {},
   "outputs": [],
   "source": [
    "# Variables\n",
    "threshold = '10000'\n",
    "indexes = ['S01_S1', 'S02_S2', 'S03_S3', 'S04_S4', 'S05_S5', 'S06_S6', 'S07_S7', 'S08_S8', 'S09_S9', 'S10_S10', 'S11_S11', 'S12_S12', 'S13_S13', 'S14_S14', 'S15_S15', 'S16_S16', 'S17_S17', 'S18_S18', 'S19_S19', 'S20_S20', 'S21_S21', 'S22_S22', 'S23_S23', 'S24_S24', 'S25_S25', 'S26_S26']\n",
    "\n",
    "folders = [f'{threshold}_{x}' for x in indexes]\n",
    "\n",
    "outdir = 'distribution_plots'"
   ]
  },
  {
   "cell_type": "code",
   "execution_count": 76,
   "metadata": {},
   "outputs": [],
   "source": [
    "#As if this was the loop already\n",
    "#folder = folders[0]"
   ]
  },
  {
   "cell_type": "code",
   "execution_count": 79,
   "metadata": {},
   "outputs": [],
   "source": [
    "for folder in folders:\n",
    "    # Load in barcode quantification and make it a dict\n",
    "    barcodes = pd.read_csv(f'{folder}/barcode_quantification.csv')\n",
    "\n",
    "    # Make the barcode the index so to have it as key, drop that col\n",
    "    barcodes.index = barcodes['Complete_barcode']\n",
    "\n",
    "    barcodes = barcodes[['Number_of_reads']]\n",
    "\n",
    "    # Barcodes as dict\n",
    "    barcodes_dict = barcodes.to_dict()['Number_of_reads']\n",
    "\n",
    "    del barcodes # rm initial df\n",
    "\n",
    "    # Load in the reads count table\n",
    "    reads_df = pd.read_csv(f'{folder}/human_read_count.csv')\n",
    "\n",
    "    # Make Geneid the index before transposing, drop that col\n",
    "    ids = list(reads_df['Geneid'])\n",
    "\n",
    "    reads_df.index = ids\n",
    "\n",
    "    reads_df = reads_df.drop('Geneid', axis=1)\n",
    "\n",
    "    # Transpose DF and make a column with all counts summed up\n",
    "    reads_df = reads_df.T\n",
    "\n",
    "\n",
    "    # Make a column with the sum of counts\n",
    "    reads_df['Sum'] = reads_df.sum(axis=1)\n",
    "\n",
    "    # Remove all the other columns\n",
    "    reads_df = reads_df['Sum']\n",
    "\n",
    "    # Get a dictionary out of the df\n",
    "    reads_dict = reads_df.to_dict()\n",
    "\n",
    "    del reads_df\n",
    "\n",
    "\n",
    "    # Get a dictionary of how much is the % of mapping rate\n",
    "    mapping_dict = {}\n",
    "\n",
    "    for sequence, total_count in reads_dict.items():\n",
    "        # Put in the dict the % of each cell's mapping\n",
    "        mapping_dict[folder+sequence] = round(total_count/barcodes_dict[sequence]*100, 2)\n",
    "\n",
    "    all_values = mapping_dict.values()\n",
    "\n",
    "\n",
    "    fig=sns.displot(all_values)\n",
    "\n",
    "\n",
    "    if not os.path.exists(outdir):\n",
    "        os.mkdir(outdir)\n",
    "\n",
    "    fig.savefig(f'{outdir}/{folder}_distribution.png')"
   ]
  },
  {
   "cell_type": "code",
   "execution_count": null,
   "metadata": {},
   "outputs": [],
   "source": []
  }
 ],
 "metadata": {
  "kernelspec": {
   "display_name": "Python 3",
   "language": "python",
   "name": "python3"
  },
  "language_info": {
   "codemirror_mode": {
    "name": "ipython",
    "version": 3
   },
   "file_extension": ".py",
   "mimetype": "text/x-python",
   "name": "python",
   "nbconvert_exporter": "python",
   "pygments_lexer": "ipython3",
   "version": "3.11.2"
  },
  "orig_nbformat": 4
 },
 "nbformat": 4,
 "nbformat_minor": 2
}
