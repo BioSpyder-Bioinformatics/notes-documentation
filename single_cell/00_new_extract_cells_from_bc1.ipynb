{
 "cells": [
  {
   "cell_type": "code",
   "execution_count": 1,
   "metadata": {},
   "outputs": [],
   "source": [
    "import pandas as pd"
   ]
  },
  {
   "cell_type": "code",
   "execution_count": 2,
   "metadata": {},
   "outputs": [],
   "source": [
    "bios = 2802\n",
    "threshold = 2000"
   ]
  },
  {
   "cell_type": "code",
   "execution_count": 3,
   "metadata": {},
   "outputs": [],
   "source": [
    "bc1_string = f'BIOS{bios}_{threshold}_bc1_analysis.csv'\n",
    "\n",
    "bc1_df = pd.read_csv(bc1_string)"
   ]
  },
  {
   "cell_type": "code",
   "execution_count": 4,
   "metadata": {},
   "outputs": [],
   "source": [
    "umi_string = f'{threshold}_thr_concatenated_umi_count.csv'\n",
    "umi_df = pd.read_csv(umi_string)"
   ]
  },
  {
   "cell_type": "code",
   "execution_count": 5,
   "metadata": {},
   "outputs": [],
   "source": [
    "def remove_trail(s):\n",
    "    return '_'.join(s.split('_')[:-1])"
   ]
  },
  {
   "cell_type": "code",
   "execution_count": 6,
   "metadata": {},
   "outputs": [],
   "source": [
    "def get_trail(s):\n",
    "    return s.strip('/').split('_')[-1]"
   ]
  },
  {
   "cell_type": "code",
   "execution_count": 7,
   "metadata": {},
   "outputs": [],
   "source": [
    "def get_conditions(df):\n",
    "    conditions_unfiltered = df['Condition']\n",
    "    conditions_stripped = [remove_trail(x) for x in conditions_unfiltered]\n",
    "    # return a set so it's only unique values\n",
    "    return set(conditions_stripped)"
   ]
  },
  {
   "cell_type": "code",
   "execution_count": 8,
   "metadata": {},
   "outputs": [],
   "source": [
    "def filter_by_condition(df, bc1, condition):\n",
    "    # Get all the barcodes which respect the condition \n",
    "    # Basically you check that the condition is in the condition column, if yes extract index + complete barcode and stick them together\n",
    "    barcodes = bc1[bc1['Condition'].apply(lambda x: remove_trail(x)) == condition]\n",
    "    # Merge the index and complete barcode to produce unique cell identifier\n",
    "    list_of_barcodes = list(barcodes['Index'].apply(lambda x: x.strip('/')) + barcodes['Complete barcode'])\n",
    "    # Now filter the df to only keep the columns in the list of barcodes + geneid\n",
    "    list_of_barcodes.insert(0,'Geneid')\n",
    "    return df[list_of_barcodes]\n",
    "    "
   ]
  },
  {
   "cell_type": "code",
   "execution_count": null,
   "metadata": {},
   "outputs": [],
   "source": []
  },
  {
   "cell_type": "code",
   "execution_count": null,
   "metadata": {},
   "outputs": [],
   "source": []
  },
  {
   "cell_type": "code",
   "execution_count": 9,
   "metadata": {},
   "outputs": [
    {
     "data": {
      "text/plain": [
       "{'CD19-B-lymphocyte', 'CD3-T-lymphocyte', 'PBMC-cultured', 'PBMC-no-culture'}"
      ]
     },
     "execution_count": 9,
     "metadata": {},
     "output_type": "execute_result"
    }
   ],
   "source": [
    "conditions = get_conditions(bc1_df)\n",
    "conditions"
   ]
  },
  {
   "cell_type": "code",
   "execution_count": 24,
   "metadata": {},
   "outputs": [],
   "source": [
    "condition = 'CD3-T-lymphocyte'\n",
    "\n",
    "my_df = filter_by_condition(umi_df, bc1_df, condition)\n",
    "\n",
    "# Check for no repeated cols\n",
    "if my_df.T[0].to_dict().keys() != set(my_df.T[0].to_dict().keys()):\n",
    "    print('WE HAVE A PROBLEM') \n",
    "else:\n",
    "    my_df.to_csv('cd3_new_df.csv', index=False)\n"
   ]
  },
  {
   "cell_type": "code",
   "execution_count": 11,
   "metadata": {},
   "outputs": [],
   "source": [
    "condition = 'CD19-B-lymphocyte'\n",
    "\n",
    "my_df2 = filter_by_condition(umi_df, bc1_df, condition)\n",
    "\n",
    "condition = 'PBMC-cultured'\n",
    "\n",
    "my_df3 = filter_by_condition(umi_df, bc1_df, condition)\n",
    "\n",
    "condition = 'PBMC-no-culture'\n",
    "\n",
    "my_df4 = filter_by_condition(umi_df, bc1_df, condition)\n"
   ]
  },
  {
   "cell_type": "code",
   "execution_count": 12,
   "metadata": {},
   "outputs": [
    {
     "name": "stdout",
     "output_type": "stream",
     "text": [
      "(22537, 11818) (22537, 1921) (22537, 924) (22537, 3504) (22537, 5472)\n"
     ]
    }
   ],
   "source": [
    "print(umi_df.shape, my_df.shape, my_df2.shape, my_df3.shape, my_df4.shape)"
   ]
  }
 ],
 "metadata": {
  "kernelspec": {
   "display_name": "Python 3",
   "language": "python",
   "name": "python3"
  },
  "language_info": {
   "codemirror_mode": {
    "name": "ipython",
    "version": 3
   },
   "file_extension": ".py",
   "mimetype": "text/x-python",
   "name": "python",
   "nbconvert_exporter": "python",
   "pygments_lexer": "ipython3",
   "version": "3.11.2"
  },
  "orig_nbformat": 4
 },
 "nbformat": 4,
 "nbformat_minor": 2
}
