{
 "cells": [
  {
   "cell_type": "markdown",
   "metadata": {},
   "source": []
  },
  {
   "cell_type": "code",
   "execution_count": 1,
   "metadata": {},
   "outputs": [],
   "source": [
    "from dictionaries import *\n",
    "from sample_sheet_functions import *\n",
    "import pandas as pd"
   ]
  },
  {
   "cell_type": "code",
   "execution_count": null,
   "metadata": {},
   "outputs": [],
   "source": [
    "# Current workflow "
   ]
  },
  {
   "cell_type": "code",
   "execution_count": 19,
   "metadata": {},
   "outputs": [],
   "source": [
    "# User reuploaded file, in this case the file name is:\n",
    "user_file_name_on_reupload = '48_well_template_assigned_new.csv'\n",
    "\n",
    "# Persisting from before\n",
    "user_experiment_name = 'user_experiment_name'\n",
    "user_additional_comments = 'user_additional_comments'"
   ]
  },
  {
   "cell_type": "code",
   "execution_count": 20,
   "metadata": {},
   "outputs": [
    {
     "name": "stdout",
     "output_type": "stream",
     "text": [
      "[{'blanks': 0, 'positive_controls': 0, 'negative_controls': 0, 'to_change': [], 'total_samples': 96, 'unique_sample_names': 96, 'something_wrong': False}, {'blanks': 0, 'positive_controls': 0, 'negative_controls': 0, 'to_change': [], 'total_samples': 96, 'unique_sample_names': 96, 'something_wrong': False}, {'blanks': 0, 'positive_controls': 0, 'negative_controls': 0, 'to_change': [], 'total_samples': 96, 'unique_sample_names': 96, 'something_wrong': False}, {'blanks': 0, 'positive_controls': 0, 'negative_controls': 0, 'to_change': [], 'total_samples': 96, 'unique_sample_names': 96, 'something_wrong': False}]\n",
      "[{'blanks': 0, 'positive_controls': 0, 'negative_controls': 0, 'to_change': [], 'total_samples': 96, 'unique_sample_names': 96, 'something_wrong': False}, {'blanks': 0, 'positive_controls': 0, 'negative_controls': 0, 'to_change': [], 'total_samples': 96, 'unique_sample_names': 96, 'something_wrong': False}, {'blanks': 0, 'positive_controls': 0, 'negative_controls': 0, 'to_change': [], 'total_samples': 96, 'unique_sample_names': 96, 'something_wrong': False}, {'blanks': 0, 'positive_controls': 0, 'negative_controls': 0, 'to_change': [], 'total_samples': 96, 'unique_sample_names': 96, 'something_wrong': False}]\n",
      "[{'blanks': 0, 'positive_controls': 0, 'negative_controls': 0, 'to_change': [], 'total_samples': 96, 'unique_sample_names': 96, 'something_wrong': False}, {'blanks': 0, 'positive_controls': 0, 'negative_controls': 0, 'to_change': [], 'total_samples': 96, 'unique_sample_names': 96, 'something_wrong': False}, {'blanks': 0, 'positive_controls': 0, 'negative_controls': 0, 'to_change': [], 'total_samples': 96, 'unique_sample_names': 96, 'something_wrong': False}, {'blanks': 0, 'positive_controls': 0, 'negative_controls': 0, 'to_change': [], 'total_samples': 96, 'unique_sample_names': 96, 'something_wrong': False}]\n",
      "[{'blanks': 0, 'positive_controls': 0, 'negative_controls': 0, 'to_change': [], 'total_samples': 96, 'unique_sample_names': 96, 'something_wrong': False}, {'blanks': 0, 'positive_controls': 0, 'negative_controls': 0, 'to_change': [], 'total_samples': 96, 'unique_sample_names': 96, 'something_wrong': False}, {'blanks': 0, 'positive_controls': 0, 'negative_controls': 0, 'to_change': [], 'total_samples': 96, 'unique_sample_names': 96, 'something_wrong': False}, {'blanks': 0, 'positive_controls': 0, 'negative_controls': 0, 'to_change': [], 'total_samples': 96, 'unique_sample_names': 96, 'something_wrong': False}]\n",
      "I need you to select exactly 4 plate flavours\n"
     ]
    }
   ],
   "source": [
    "# The file gets read, and the table(s) get loaded on pandas. The tables are then displayed to the user, where they're prompted to select the plate flavours\n",
    "\n",
    "#Here add read extension and different read in methods\n",
    "sheet = pd.read_csv(user_file_name_on_reupload, index_col=0)\n",
    "\n",
    "tables = get_tables(sheet)\n",
    "\n",
    "reports = [check_table(x) for x in tables]\n",
    "\n",
    "# print(reports)\n",
    "for x in range(len(reports)):\n",
    "    print(reports)\n",
    "    if reports[x]['something_wrong']:\n",
    "        print(f'OOOOPPPPSSS something went wrong here in table {x+1}, this is the report: {reports[x]}')\n",
    "\n",
    "\n",
    "# DO CHECKS HERE!!!!!!!!!!!!!!!!!!!!!!!!!!\n",
    "\n",
    "print(f'I need you to select exactly {len(tables)} plate flavours')"
   ]
  },
  {
   "cell_type": "code",
   "execution_count": null,
   "metadata": {},
   "outputs": [],
   "source": []
  },
  {
   "cell_type": "code",
   "execution_count": 21,
   "metadata": {},
   "outputs": [
    {
     "data": {
      "text/plain": [
       "[    R01 R02 R03 R04 R05 R06 R07 R08 R09  R10  R11  R12\n",
       " F01  A1  A2  A3  A4  A5  A6  A7  A8  A9  A10  A11  A12\n",
       " F02  B1  B2  B3  B4  B5  B6  B7  B8  B9  B10  B11  B12\n",
       " F03  C1  C2  C3  C4  C5  C6  C7  C8  C9  C10  C11  C12\n",
       " F04  D1  D2  D3  D4  D5  D6  D7  D8  D9  D10  D11  D12\n",
       " F05  E1  E2  E3  E4  E5  E6  E7  E8  E9  E10  E11  E12\n",
       " F06  F1  F2  F3  F4  F5  F6  F7  F8  F9  F10  F11  F12\n",
       " F07  G1  G2  G3  G4  G5  G6  G7  G8  G9  G10  G11  G12\n",
       " F08  H1  H2  H3  H4  H5  H6  H7  H8  H9  H10  H11  H12,\n",
       "     R01 R02 R03 R04 R05 R06 R07 R08 R09  R10  R11  R12\n",
       " F01  I1  I2  I3  I4  I5  I6  I7  I8  I9  I10  I11  I12\n",
       " F02  J1  J2  J3  J4  J5  J6  J7  J8  J9  J10  J11  J12\n",
       " F03  K1  K2  K3  K4  K5  K6  K7  K8  K9  K10  K11  K12\n",
       " F04  L1  L2  L3  L4  L5  L6  L7  L8  L9  L10  L11  L12\n",
       " F05  M1  M2  M3  M4  M5  M6  M7  M8  M9  M10  M11  M12\n",
       " F06  N1  N2  N3  N4  N5  N6  N7  N8  N9  N10  N11  N12\n",
       " F07  O1  O2  O3  O4  O5  O6  O7  O8  O9  O10  O11  O12\n",
       " F08  P1  P2  P3  P4  P5  P6  P7  P8  P9  P10  P11  P12,\n",
       "     R01 R02 R03 R04 R05 R06 R07 R08 R09  R10  R11  R12\n",
       " F01  Q1  Q2  Q3  Q4  Q5  Q6  Q7  Q8  Q9  Q10  Q11  Q12\n",
       " F02  R1  R2  R3  R4  R5  R6  R7  R8  R9  R10  R11  R12\n",
       " F03  S1  S2  S3  S4  S5  S6  S7  S8  S9  S10  S11  S12\n",
       " F04  T1  T2  T3  T4  T5  T6  T7  T8  T9  T10  T11  T12\n",
       " F05  U1  U2  U3  U4  U5  U6  U7  U8  U9  U10  U11  U12\n",
       " F06  V1  V2  V3  V4  V5  V6  V7  V8  V9  V10  V11  V12\n",
       " F07  W1  W2  W3  W4  W5  W6  W7  W8  W9  W10  W11  W12\n",
       " F08  X1  X2  X3  X4  X5  X6  X7  X8  X9  X10  X11  X12,\n",
       "      R01  R02  R03  R04  R05  R06  R07  R08  R09   R10   R11   R12\n",
       " F01   Y1   Y2   Y3   Y4   Y5   Y6   Y7   Y8   Y9   Y10   Y11   Y12\n",
       " F02   Z1   Z2   Z3   Z4   Z5   Z6   Z7   Z8   Z9   Z10   Z11   Z12\n",
       " F03  AA1  AA2  AA3  AA4  AA5  AA6  AA7  AA8  AA9  AA10  AA11  AA12\n",
       " F04  AB1  AB2  AB3  AB4  AB5  AB6  AB7  AB8  AB9  AB10  AB11  AB12\n",
       " F05  AC1  AC2  AC3  AC4  AC5  AC6  AC7  AC8  AC9  AC10  AC11  AC12\n",
       " F06  AD1  AD2  AD3  AD4  AD5  AD6  AD7  AD8  AD9  AD10  AD11  AD12\n",
       " F07  AE1  AE2  AE3  AE4  AE5  AE6  AE7  AE8  AE9  AE10  AE11  AE12\n",
       " F08  AF1  AF2  AF3  AF4  AF5  AF6  AF7  AF8  AF9  AF10  AF11  AF12]"
      ]
     },
     "execution_count": 21,
     "metadata": {},
     "output_type": "execute_result"
    }
   ],
   "source": [
    "# Need a function that gets tables and determines if there are 24-48 well plates \n",
    "\n",
    "tables"
   ]
  },
  {
   "cell_type": "code",
   "execution_count": 22,
   "metadata": {},
   "outputs": [],
   "source": [
    "def what_table(table:pd.DataFrame, blanks:int):\n",
    "    blanks_24 = 72\n",
    "    cols_24 = ['R01', 'R02', 'R03', 'R04', 'NoIndex', 'NoIndex.1', 'NoIndex.2', 'NoIndex.3', 'NoIndex.4', 'NoIndex.5', 'NoIndex.6', 'NoIndex.7']\n",
    "\n",
    "    blanks_48 = 48\n",
    "    cols_48 = ['R01', 'R02', 'R03', 'R04', 'R05', 'R06', 'NoIndex', 'NoIndex.1', 'NoIndex.2', 'NoIndex.3', 'NoIndex.4', 'NoIndex.5']\n",
    "\n",
    "    blanks_96 = 0\n",
    "    cols_96 = ['R01', 'R02', 'R03', 'R04', 'R05', 'R06', 'R07', 'R08', 'R09', 'R10', 'R11', 'R12']\n",
    "    \n",
    "    print(table.columns)\n",
    "\n",
    "\n",
    "\n",
    "\n",
    "\n",
    "    # Need to understand how to handle this check, we can either check the col names, or starting from the last one, the col content.\n",
    "    # Having 24/48 well plates makes it so the index is pre-assigned\n",
    "    # (need the function to assign index to well)\n",
    "    # After this you need to pretty much make functions that append at the bottom of the DFs the 24/48 plates\n",
    "    # Add somewhere a check that determines if there are more than a 24/48 well plates per experiment"
   ]
  },
  {
   "cell_type": "code",
   "execution_count": 23,
   "metadata": {},
   "outputs": [
    {
     "name": "stdout",
     "output_type": "stream",
     "text": [
      "Index(['R01', 'R02', 'R03', 'R04', 'R05', 'R06', 'R07', 'R08', 'R09', 'R10',\n",
      "       'R11', 'R12'],\n",
      "      dtype='object')\n"
     ]
    }
   ],
   "source": [
    "res = what_table(tables[0], 22)"
   ]
  },
  {
   "cell_type": "code",
   "execution_count": null,
   "metadata": {},
   "outputs": [],
   "source": []
  },
  {
   "cell_type": "code",
   "execution_count": null,
   "metadata": {},
   "outputs": [],
   "source": []
  },
  {
   "cell_type": "code",
   "execution_count": null,
   "metadata": {},
   "outputs": [],
   "source": []
  }
 ],
 "metadata": {
  "kernelspec": {
   "display_name": "Python 3",
   "language": "python",
   "name": "python3"
  },
  "language_info": {
   "codemirror_mode": {
    "name": "ipython",
    "version": 3
   },
   "file_extension": ".py",
   "mimetype": "text/x-python",
   "name": "python",
   "nbconvert_exporter": "python",
   "pygments_lexer": "ipython3",
   "version": "3.9.13 (main, Aug  7 2022, 01:30:21) \n[Clang 12.0.0 (clang-1200.0.32.29)]"
  },
  "orig_nbformat": 4,
  "vscode": {
   "interpreter": {
    "hash": "aee8b7b246df8f9039afb4144a1f6fd8d2ca17a180786b69acc140d282b71a49"
   }
  }
 },
 "nbformat": 4,
 "nbformat_minor": 2
}
