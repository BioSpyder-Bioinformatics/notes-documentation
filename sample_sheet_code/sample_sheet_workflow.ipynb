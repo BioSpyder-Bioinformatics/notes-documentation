{
 "cells": [
  {
   "cell_type": "code",
   "execution_count": 1,
   "metadata": {},
   "outputs": [],
   "source": [
    "# Necessary imports of functions and dictionaries\n",
    "from dictionaries import *\n",
    "from sample_sheet_functions import *"
   ]
  },
  {
   "attachments": {},
   "cell_type": "markdown",
   "metadata": {},
   "source": [
    "# User downloads sample sheet\n",
    "*Requires User* \n",
    "- to pick for which tables \n",
    "- how many if 96-wells\n",
    "- Project name, experiment name, additional comments\n",
    "\n",
    "_To add_:\n",
    "- User can choose csv or xlsx (xlsx is going to be coloured)\n"
   ]
  },
  {
   "cell_type": "code",
   "execution_count": 2,
   "metadata": {},
   "outputs": [],
   "source": [
    "# Essential input\n",
    "plate_wells_number_options = ['24', '48', '96']\n",
    "how_many_96_plates_options = [1, 'up to', 8]\n",
    "project_name = ''\n",
    "\n",
    "# Non essential\n",
    "experiment_name = ''\n",
    "additional_comments = ''\n",
    "file_format = ['csv', 'xlsx'] #def csv"
   ]
  },
  {
   "cell_type": "code",
   "execution_count": 3,
   "metadata": {},
   "outputs": [],
   "source": [
    "# Simulating user input up to this point\n",
    "user_plate = '96'\n",
    "user_plate_number = 5\n",
    "user_project_name = 'my_project'\n",
    "user_experiment_name = 'my_experiment'\n",
    "user_additional_comments = 'my_comments'\n",
    "user_file_format = 'csv'"
   ]
  },
  {
   "cell_type": "code",
   "execution_count": 4,
   "metadata": {},
   "outputs": [],
   "source": [
    "# Add option for the CSV format\n",
    "def wrapper_make_sample_sheet(plate_type, how_many, project_name, file_format='csv'):\n",
    "    sample_sheet = None\n",
    "    filename = ''\n",
    "    # If the plate type is 96, call the function for 96, if it's not check, which one and give the right boolean to the 24/48 function\n",
    "    if plate_type == '96':\n",
    "        filename=f'96_well_template_{project_name}.csv'\n",
    "        sample_sheet = make_96_well_sample_sheet(filename, how_many)\n",
    "    else:\n",
    "        if plate_type == '24':\n",
    "            filename=f'24_well_template_{project_name}.csv'\n",
    "            sample_sheet = make_24_48_well_sample_sheet(filename, True)\n",
    "        elif plate_type == '48':\n",
    "            filename=f'48_well_template_{project_name}.csv'\n",
    "            sample_sheet = make_24_48_well_sample_sheet(filename, False)\n",
    "        else:\n",
    "            print('I DO NOT RECOGNISE THIS PLATE TYPE')\n",
    "            raise Exception('Wrong plate format required!')\n",
    "\n",
    "    #Check that file does not exist already\n",
    "    if os.path.isfile(filename):\n",
    "        raise Exception('This file already exists') \n",
    "\n",
    "    # Save in file the string for the sample sheet (this will probably need to be modified for Dash, not sure how it handles the download of files yet)\n",
    "    with open(filename, 'w') as file:\n",
    "        file.write(sample_sheet)\n",
    "    \n"
   ]
  },
  {
   "cell_type": "code",
   "execution_count": 5,
   "metadata": {},
   "outputs": [],
   "source": [
    "# Execute make sample sheet with user specified variables\n",
    "wrapper_make_sample_sheet(user_plate, user_plate_number, user_project_name)"
   ]
  },
  {
   "cell_type": "code",
   "execution_count": null,
   "metadata": {},
   "outputs": [],
   "source": []
  },
  {
   "cell_type": "code",
   "execution_count": null,
   "metadata": {},
   "outputs": [],
   "source": []
  },
  {
   "attachments": {},
   "cell_type": "markdown",
   "metadata": {},
   "source": [
    "# User reuploads sample sheet\n",
    "#### Displays the layout of the uploaded sample sheet(s) to the user\n",
    "*Persisting from before/can be updated*\n",
    "- Experiment_name\n",
    "- Additional_comments\n",
    "\n",
    "*Requires user*\n",
    "- Pick plate flavours\n",
    "\n",
    "_In background_:\n",
    "- Checks number of samples\n",
    "- Checks number of blanks/controls\n",
    "- Checks no samples start with underscore (_)\n",
    "\n",
    "_To add_:\n",
    "- User can upload CSV or XLSX\n",
    "\n",
    "_Processes:_\n",
    "- Read file in, extract different tables and display to users\n",
    "- Associate each table to a plate flavour\n",
    "- Associate dictionaries and produce generic melted sample sheet"
   ]
  },
  {
   "cell_type": "code",
   "execution_count": 6,
   "metadata": {},
   "outputs": [],
   "source": [
    "# User reuploaded file, in this case the file name is:\n",
    "user_file_name_on_reupload = '96_well_template_4_plates.csv'\n",
    "\n",
    "# Persisting from before\n",
    "user_experiment_name = user_experiment_name\n",
    "user_additional_comments = user_additional_comments"
   ]
  },
  {
   "cell_type": "code",
   "execution_count": 7,
   "metadata": {},
   "outputs": [
    {
     "name": "stdout",
     "output_type": "stream",
     "text": [
      "I need you to select exactly 4 plate flavours\n"
     ]
    }
   ],
   "source": [
    "# The file gets read, and the table(s) get loaded on pandas. The tables are then displayed to the user, where they're prompted to select the plate flavours\n",
    "\n",
    "#Here add read extension and different read in methods\n",
    "sheet = pd.read_csv(user_file_name_on_reupload, index_col=0)\n",
    "\n",
    "tables = get_tables(sheet)\n",
    "\n",
    "print(f'I need you to select exactly {len(tables)} plate flavours')"
   ]
  },
  {
   "cell_type": "code",
   "execution_count": 8,
   "metadata": {},
   "outputs": [],
   "source": [
    "# Here the user inputs what flavours he wants for the tables, in this case:\n",
    "user_flavours_selection = ['G', 'H', 'I', 'F'] \n",
    "\n",
    "# In the next section the user has to select the machinery so:\n",
    "possible_machinery_selection = ['hi_seq', 'mini_seq', 'mi_seq', 'next_seq']\n",
    "\n",
    "user_machinery_selection = 'next_seq' #(from radio button on dash)"
   ]
  },
  {
   "cell_type": "code",
   "execution_count": 9,
   "metadata": {},
   "outputs": [
    {
     "name": "stdout",
     "output_type": "stream",
     "text": [
      "DONE\n"
     ]
    }
   ],
   "source": [
    "# Function to combine header and melted table\n",
    "def combine_into_sample_sheet(tables, selected_flavours, machinery_selection, user_project_name, user_experiment_name = '', user_additional_comments=''):\n",
    "    header = ''\n",
    "    dfs = []\n",
    "    filename = ''\n",
    "    if machinery_selection == 'hi_seq':\n",
    "        header = make_hiseq_header()\n",
    "        dfs = loop_and_stack(tables, selected_flavours)\n",
    "        filename = f'{user_project_name}_SR_HS.csv'\n",
    "    \n",
    "    elif machinery_selection == 'mini_seq':\n",
    "        header = make_miniseq_header(user_experiment_name)\n",
    "        dfs = loop_and_stack(tables, selected_flavours, mini_seq=True)\n",
    "        filename = f'{user_project_name}_MiniSeq.csv'\n",
    "\n",
    "    elif machinery_selection == 'mi_seq':\n",
    "        header = make_miseq_header(user_project_name, user_experiment_name, user_additional_comments)\n",
    "        dfs = loop_and_stack(tables, selected_flavours)\n",
    "        filename = f'{user_project_name}_SR_MS.csv'\n",
    "\n",
    "    elif machinery_selection == 'next_seq':\n",
    "        header = make_nextseq_header(user_project_name, user_experiment_name, user_additional_comments)\n",
    "        dfs = loop_and_stack(tables, selected_flavours, next_seq=True)\n",
    "        filename = f'{user_project_name}_PE_NS.csv'    \n",
    "    \n",
    "    else:\n",
    "        print('Something went wrong, match not made')\n",
    "        raise Exception('This machinery is not supported yet!')\n",
    "\n",
    "\n",
    "    # Need to concatenate, remove headers, re-index and remove standard index from file\n",
    "    merged_dfs = concatenate_and_reindex(dfs)     \n",
    "    \n",
    "    # Write header and dfs to csv file\n",
    "    with open(filename, 'w') as file:\n",
    "        file.write(header)\n",
    "\n",
    "        merged_dfs.to_csv(file, index=False, header=False)\n",
    "\n",
    "    print('DONE') # Or return some kind of feedback to dash\n",
    "\n",
    "\n",
    "\n",
    "\n",
    "\n",
    "combine_into_sample_sheet(tables, user_flavours_selection, user_machinery_selection, user_project_name, user_experiment_name, user_additional_comments)\n",
    "\n",
    "\n"
   ]
  },
  {
   "cell_type": "code",
   "execution_count": null,
   "metadata": {},
   "outputs": [],
   "source": []
  },
  {
   "cell_type": "code",
   "execution_count": null,
   "metadata": {},
   "outputs": [],
   "source": []
  },
  {
   "cell_type": "code",
   "execution_count": null,
   "metadata": {},
   "outputs": [],
   "source": []
  },
  {
   "cell_type": "code",
   "execution_count": null,
   "metadata": {},
   "outputs": [],
   "source": []
  },
  {
   "cell_type": "code",
   "execution_count": null,
   "metadata": {},
   "outputs": [],
   "source": []
  },
  {
   "cell_type": "code",
   "execution_count": null,
   "metadata": {},
   "outputs": [],
   "source": []
  },
  {
   "cell_type": "code",
   "execution_count": null,
   "metadata": {},
   "outputs": [],
   "source": []
  },
  {
   "cell_type": "code",
   "execution_count": null,
   "metadata": {},
   "outputs": [],
   "source": []
  },
  {
   "cell_type": "code",
   "execution_count": null,
   "metadata": {},
   "outputs": [],
   "source": []
  },
  {
   "cell_type": "code",
   "execution_count": null,
   "metadata": {},
   "outputs": [],
   "source": []
  },
  {
   "attachments": {},
   "cell_type": "markdown",
   "metadata": {},
   "source": [
    "# Prompt the user for download\n",
    "*Requires user*\n",
    "- Pick which machine they need\n",
    "\n",
    "_Processes_:\n",
    "- Append header to melted table"
   ]
  },
  {
   "cell_type": "code",
   "execution_count": null,
   "metadata": {},
   "outputs": [],
   "source": []
  }
 ],
 "metadata": {
  "kernelspec": {
   "display_name": "Python 3",
   "language": "python",
   "name": "python3"
  },
  "language_info": {
   "codemirror_mode": {
    "name": "ipython",
    "version": 3
   },
   "file_extension": ".py",
   "mimetype": "text/x-python",
   "name": "python",
   "nbconvert_exporter": "python",
   "pygments_lexer": "ipython3",
   "version": "3.9.13"
  },
  "orig_nbformat": 4,
  "vscode": {
   "interpreter": {
    "hash": "aee8b7b246df8f9039afb4144a1f6fd8d2ca17a180786b69acc140d282b71a49"
   }
  }
 },
 "nbformat": 4,
 "nbformat_minor": 2
}
