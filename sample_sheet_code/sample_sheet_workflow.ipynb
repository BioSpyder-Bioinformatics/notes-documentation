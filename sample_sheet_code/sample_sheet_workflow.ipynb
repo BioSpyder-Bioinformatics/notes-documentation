{
 "cells": [
  {
   "cell_type": "code",
   "execution_count": null,
   "metadata": {},
   "outputs": [],
   "source": [
    "# Necessary imports of functions and dictionaries\n",
    "from dictionaries import *\n",
    "from sample_sheet_functions import *"
   ]
  },
  {
   "attachments": {},
   "cell_type": "markdown",
   "metadata": {},
   "source": [
    "# User downloads sample sheet\n",
    "*Requires User* \n",
    "- to pick for which tables \n",
    "- how many if 96-wells\n",
    "- Project name, experiment name, additional comments\n",
    "\n",
    "_To add_:\n",
    "- User can choose csv or xlsx (xlsx is going to be coloured)\n"
   ]
  },
  {
   "cell_type": "code",
   "execution_count": 1,
   "metadata": {},
   "outputs": [
    {
     "data": {
      "text/plain": [
       "{'F901': 'AACTACAGC',\n",
       " 'F902': 'TTCTGGGCA',\n",
       " 'F903': 'GCACACTGT',\n",
       " 'F904': 'CTAATGCAC',\n",
       " 'F905': 'AGGTAACAT',\n",
       " 'F906': 'GATGGTTGT',\n",
       " 'F907': 'GGTCCATGC',\n",
       " 'F908': 'AAGGTGTTT',\n",
       " 'F909': 'CCATCAGCC',\n",
       " 'F910': 'GGACTAAGA',\n",
       " 'F911': 'TCATTGAAA',\n",
       " 'F912': 'AGACGTGTT',\n",
       " 'F913': 'CGTAGATTT',\n",
       " 'F914': 'GCTCAGCTT',\n",
       " 'F915': 'GGTATCCTT',\n",
       " 'F916': 'AATTCGGAA',\n",
       " 'F917': 'CAACACGCA',\n",
       " 'F918': 'GGCCTGTCA',\n",
       " 'F919': 'GAACCAATT',\n",
       " 'F920': 'AGAACCATA',\n",
       " 'F921': 'AGGCTATCT',\n",
       " 'F922': 'GAGACCACC',\n",
       " 'F923': 'GGTTAAGGC',\n",
       " 'F924': 'CAGTTAATA',\n",
       " 'F925': 'CACAGGCCA',\n",
       " 'F926': 'TGACGGCCA',\n",
       " 'F927': 'GACCTTGCT',\n",
       " 'F928': 'AGATTGAGT',\n",
       " 'F929': 'AGGAGTCCA',\n",
       " 'F930': 'GCGATAGCA',\n",
       " 'F931': 'TGGCAAGGT',\n",
       " 'F932': 'CATAGCATA',\n",
       " 'F933': 'CCAAGTCGT',\n",
       " 'F934': 'TGCATCTGC',\n",
       " 'F935': 'GACGCGTTA',\n",
       " 'F936': 'AGCCTACTT',\n",
       " 'F937': 'ATGGTTAGA',\n",
       " 'F938': 'GCTGCGTAT',\n",
       " 'F939': 'TGTAACGGC',\n",
       " 'F940': 'AATAGGTGC',\n",
       " 'F941': 'AACACAATC',\n",
       " 'F942': 'TGCCGGTAT',\n",
       " 'F943': 'TAAGTTACG',\n",
       " 'F944': 'AGCTAGACC',\n",
       " 'F945': 'ATTGTGTCT',\n",
       " 'F946': 'TAGCGTCAA',\n",
       " 'F947': 'TGTGAGCAT',\n",
       " 'F948': 'CAGAACCTA',\n",
       " 'F949': 'TTAGGACTT',\n",
       " 'F950': 'GCCATGCTC',\n",
       " 'F951': 'ATACAGTTC',\n",
       " 'F952': 'TATACGCTT',\n",
       " 'F953': 'TTGGATTCA',\n",
       " 'F954': 'CCGATGTTC',\n",
       " 'F955': 'TTCGGTGGC',\n",
       " 'F956': 'TCAGATCAC',\n",
       " 'F957': 'ATAGCACAA',\n",
       " 'F958': 'TCGCTACGC',\n",
       " 'F959': 'CCTCTGGTT',\n",
       " 'F960': 'TCCTCACGC',\n",
       " 'F961': 'CGAGAGGTA',\n",
       " 'F962': 'TCTGTCATT',\n",
       " 'F963': 'CGCCAGTCT',\n",
       " 'F964': 'CGCTACAAC'}"
      ]
     },
     "execution_count": 1,
     "metadata": {},
     "output_type": "execute_result"
    }
   ],
   "source": []
  },
  {
   "cell_type": "code",
   "execution_count": null,
   "metadata": {},
   "outputs": [],
   "source": []
  },
  {
   "cell_type": "code",
   "execution_count": null,
   "metadata": {},
   "outputs": [],
   "source": []
  },
  {
   "attachments": {},
   "cell_type": "markdown",
   "metadata": {},
   "source": [
    "# User reuploads sample sheet\n",
    "#### Displays the layout of the uploaded sample sheet(s) to the user\n",
    "*Requires user*\n",
    "- Pick plate flavours\n",
    "\n",
    "_In background_:\n",
    "- Checks number of samples\n",
    "- Checks number of blanks/controls\n",
    "- Checks no samples start with underscore (_)\n",
    "\n",
    "_To add_:\n",
    "- User can upload CSV or XLSX\n",
    "\n",
    "_Processes:_\n",
    "- Read file in, extract different tables and display to users\n",
    "- Associate each table to a plate flavour\n",
    "- Associate dictionaries and produce generic melted sample sheet"
   ]
  },
  {
   "cell_type": "code",
   "execution_count": null,
   "metadata": {},
   "outputs": [],
   "source": []
  },
  {
   "cell_type": "code",
   "execution_count": null,
   "metadata": {},
   "outputs": [],
   "source": []
  },
  {
   "cell_type": "code",
   "execution_count": null,
   "metadata": {},
   "outputs": [],
   "source": []
  },
  {
   "cell_type": "code",
   "execution_count": null,
   "metadata": {},
   "outputs": [],
   "source": []
  },
  {
   "cell_type": "code",
   "execution_count": null,
   "metadata": {},
   "outputs": [],
   "source": []
  },
  {
   "attachments": {},
   "cell_type": "markdown",
   "metadata": {},
   "source": [
    "# Prompt the user for download\n",
    "*Requires user*\n",
    "- Pick which machine they need\n",
    "\n",
    "_Processes_:\n",
    "- Append header to melted table"
   ]
  },
  {
   "cell_type": "code",
   "execution_count": null,
   "metadata": {},
   "outputs": [],
   "source": []
  }
 ],
 "metadata": {
  "kernelspec": {
   "display_name": "Python 3",
   "language": "python",
   "name": "python3"
  },
  "language_info": {
   "codemirror_mode": {
    "name": "ipython",
    "version": 3
   },
   "file_extension": ".py",
   "mimetype": "text/x-python",
   "name": "python",
   "nbconvert_exporter": "python",
   "pygments_lexer": "ipython3",
   "version": "3.9.13 (main, Aug  7 2022, 01:30:21) \n[Clang 12.0.0 (clang-1200.0.32.29)]"
  },
  "orig_nbformat": 4,
  "vscode": {
   "interpreter": {
    "hash": "aee8b7b246df8f9039afb4144a1f6fd8d2ca17a180786b69acc140d282b71a49"
   }
  }
 },
 "nbformat": 4,
 "nbformat_minor": 2
}
