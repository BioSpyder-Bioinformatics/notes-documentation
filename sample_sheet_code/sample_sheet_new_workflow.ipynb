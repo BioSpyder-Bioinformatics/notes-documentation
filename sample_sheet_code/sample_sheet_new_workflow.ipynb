{
 "cells": [
  {
   "cell_type": "code",
   "execution_count": 1,
   "metadata": {},
   "outputs": [],
   "source": [
    "# Necessary imports of functions and dictionaries\n",
    "from dictionaries import *\n",
    "from sample_sheet_functions import *\n",
    "import pandas as pd\n",
    "from io import StringIO\n",
    "\n"
   ]
  },
  {
   "attachments": {},
   "cell_type": "markdown",
   "metadata": {},
   "source": [
    "###### For future\n",
    "- Give possibility to download/upload in CSV/XLSX\n",
    "- Table shows string on tooltip\n",
    "- Table captures with a regular expression the sample name prefixes\n"
   ]
  },
  {
   "attachments": {},
   "cell_type": "markdown",
   "metadata": {},
   "source": [
    "# User download for template\n",
    "_User Required to_\n",
    "- Pick the table flavours they want (in form of dictionary key:True/False)\n",
    "- Add project name, experiment name and additional comments (Now all stored in sample sheet template)"
   ]
  },
  {
   "cell_type": "code",
   "execution_count": 2,
   "metadata": {},
   "outputs": [],
   "source": [
    "# Essential input\n",
    "plates_options = {'24': False, '48': False, 'e': False, 'f': False, 'g': False, 'h': False, 'i': False, 'j': False, 'k': False, 'l': False}\n",
    "project_name = ''\n",
    "\n",
    "# Non-essential\n",
    "experiment_name = ''\n",
    "additional_comments = ''\n",
    "\n",
    "file_format=None #Needs to be done at some point"
   ]
  },
  {
   "cell_type": "code",
   "execution_count": 23,
   "metadata": {},
   "outputs": [],
   "source": [
    "# User input simulation\n",
    "user_project_name = 'user project'\n",
    "user_experiment_name = 'this is my project'\n",
    "user_additional_comments = 'i want more space for the comments!'\n",
    "\n",
    "user_plate_selection = {'e': False, 'f': True, 'g': False, 'h': False, 'i': False, 'j': False, 'k': True, 'l': True, 'tf': False, 'fe': True}\n"
   ]
  },
  {
   "cell_type": "code",
   "execution_count": null,
   "metadata": {},
   "outputs": [],
   "source": []
  },
  {
   "cell_type": "code",
   "execution_count": 24,
   "metadata": {},
   "outputs": [],
   "source": [
    "def wrapper_make_template(selection, project_name, experiment_name, additional_comments, file_format='csv'):\n",
    "    sample_sheet = ''\n",
    "    filename = ''\n",
    "\n",
    "    # Iterate through the selection, if a key is true, add it to the sample sheet.\n",
    "    # If the key is tf (24) or fe (48), handle it accordingle\n",
    "\n",
    "    for flavour, value in selection.items():\n",
    "        # If the selection is false, continue\n",
    "        if not value:\n",
    "            continue\n",
    "        # If the key is 24/48 act accordingly\n",
    "        if flavour == 'tf':\n",
    "            import_df = pd.DataFrame.from_dict(different_24_dict)\n",
    "            string = import_df.to_csv(index=False)\n",
    "            \n",
    "        elif flavour == 'fe':\n",
    "            import_df = pd.DataFrame.from_dict(different_48_dict)\n",
    "            string = import_df.to_csv(index=False)\n",
    "        \n",
    "        else:\n",
    "            # Standard 96 well plate, add flavour to it\n",
    "            import_df = pd.DataFrame.from_dict(different_96_dict)\n",
    "            new_cols = [x if not x.startswith('Unnamed') else flavour for x in import_df.columns]\n",
    "            # print(import_df, import_df.columns, new_cols)\n",
    "            import_df.columns = new_cols\n",
    "\n",
    "            string = import_df.to_csv(index=False)\n",
    "\n",
    "        #Append string to sample sheet collective string + new line\n",
    "        sample_sheet += string + ',,,,,,,,,,,,\\n'\n",
    "\n",
    "\n",
    "    # Add metadata to sample sheet\n",
    "    metadata = f\"\"\"Project Name,{project_name},,,,,,,,,,,\\nExperiment Name,{experiment_name},,,,,,,,,,,\\nComments,{additional_comments},,,,,,,,,,,\\n\"\"\"\n",
    "    sample_sheet = metadata + sample_sheet\n",
    "\n",
    "    project_name = project_name.replace(' ', '_')\n",
    "    filename = f'template_{project_name}.{file_format}'\n",
    "\n",
    "    return filename, sample_sheet\n"
   ]
  },
  {
   "cell_type": "code",
   "execution_count": 25,
   "metadata": {},
   "outputs": [
    {
     "name": "stdout",
     "output_type": "stream",
     "text": [
      "f\n",
      "k\n",
      "l\n",
      "fe\n",
      "accessed this\n"
     ]
    }
   ],
   "source": [
    "filename, sample_sheet = wrapper_make_template(user_plate_selection, user_project_name, user_experiment_name, user_additional_comments)"
   ]
  },
  {
   "cell_type": "code",
   "execution_count": 22,
   "metadata": {},
   "outputs": [],
   "source": [
    "with open('delete_now.csv', 'w') as file:\n",
    "    file.write(sample_sheet)\n"
   ]
  },
  {
   "cell_type": "code",
   "execution_count": null,
   "metadata": {},
   "outputs": [],
   "source": []
  },
  {
   "cell_type": "code",
   "execution_count": null,
   "metadata": {},
   "outputs": [],
   "source": []
  },
  {
   "cell_type": "code",
   "execution_count": null,
   "metadata": {},
   "outputs": [],
   "source": []
  },
  {
   "cell_type": "code",
   "execution_count": null,
   "metadata": {},
   "outputs": [],
   "source": []
  },
  {
   "cell_type": "code",
   "execution_count": null,
   "metadata": {},
   "outputs": [],
   "source": []
  },
  {
   "cell_type": "code",
   "execution_count": null,
   "metadata": {},
   "outputs": [],
   "source": []
  },
  {
   "cell_type": "code",
   "execution_count": null,
   "metadata": {},
   "outputs": [],
   "source": []
  },
  {
   "cell_type": "code",
   "execution_count": null,
   "metadata": {},
   "outputs": [],
   "source": []
  },
  {
   "cell_type": "code",
   "execution_count": null,
   "metadata": {},
   "outputs": [],
   "source": []
  },
  {
   "cell_type": "code",
   "execution_count": null,
   "metadata": {},
   "outputs": [],
   "source": []
  },
  {
   "cell_type": "code",
   "execution_count": null,
   "metadata": {},
   "outputs": [],
   "source": []
  },
  {
   "cell_type": "code",
   "execution_count": null,
   "metadata": {},
   "outputs": [],
   "source": []
  },
  {
   "cell_type": "code",
   "execution_count": null,
   "metadata": {},
   "outputs": [],
   "source": []
  },
  {
   "cell_type": "code",
   "execution_count": null,
   "metadata": {},
   "outputs": [],
   "source": []
  },
  {
   "cell_type": "code",
   "execution_count": null,
   "metadata": {},
   "outputs": [],
   "source": []
  }
 ],
 "metadata": {
  "kernelspec": {
   "display_name": "Python 3",
   "language": "python",
   "name": "python3"
  },
  "language_info": {
   "codemirror_mode": {
    "name": "ipython",
    "version": 3
   },
   "file_extension": ".py",
   "mimetype": "text/x-python",
   "name": "python",
   "nbconvert_exporter": "python",
   "pygments_lexer": "ipython3",
   "version": "3.9.13"
  },
  "orig_nbformat": 4,
  "vscode": {
   "interpreter": {
    "hash": "aee8b7b246df8f9039afb4144a1f6fd8d2ca17a180786b69acc140d282b71a49"
   }
  }
 },
 "nbformat": 4,
 "nbformat_minor": 2
}
