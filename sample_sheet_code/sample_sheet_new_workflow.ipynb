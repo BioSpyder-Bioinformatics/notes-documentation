{
 "cells": [
  {
   "cell_type": "code",
   "execution_count": 1,
   "metadata": {},
   "outputs": [],
   "source": [
    "# Necessary imports of functions and dictionaries\n",
    "# from dictionaries import *\n",
    "# from sample_sheet_functions import *\n",
    "import pandas as pd\n",
    "from io import StringIO\n",
    "from base64 import b64decode\n",
    "import re\n",
    "\n",
    "\n",
    "# Specific imports to clean up files\n",
    "from dictionaries import different_24_dict, different_48_dict, different_96_dict, complete_sample_sheet_string, make_hiseq_header, make_miniseq_header, make_miseq_header, make_nextseq_header, f_primers_to_reverse_complement\n",
    "from dash_sample_sheet_functions import *\n"
   ]
  },
  {
   "attachments": {},
   "cell_type": "markdown",
   "metadata": {},
   "source": [
    "###### For future\n",
    "- Give possibility to download/upload in CSV/XLSX\n",
    "- Table shows string on tooltip\n",
    "- Table captures with a regular expression the sample name prefixes\n"
   ]
  },
  {
   "attachments": {},
   "cell_type": "markdown",
   "metadata": {},
   "source": [
    "# User download for template\n",
    "_User Required to_\n",
    "- Pick the table flavours they want (in form of dictionary key:True/False)\n",
    "- Add project name, experiment name and additional comments (Now all stored in sample sheet template)"
   ]
  },
  {
   "cell_type": "code",
   "execution_count": 2,
   "metadata": {},
   "outputs": [],
   "source": [
    "# Essential input\n",
    "plates_options = {'24': False, '48': False, 'e': False, 'f': False, 'g': False, 'h': False, 'i': False, 'j': False, 'k': False, 'l': False}\n",
    "project_name = ''\n",
    "\n",
    "# Non-essential\n",
    "experiment_name = ''\n",
    "additional_comments = ''\n",
    "\n",
    "file_format=None #Needs to be done at some point"
   ]
  },
  {
   "cell_type": "code",
   "execution_count": 3,
   "metadata": {},
   "outputs": [],
   "source": [
    "# User input simulation\n",
    "user_project_name = 'user project'\n",
    "user_experiment_name = 'this is my project'\n",
    "user_additional_comments = 'i want more space for the comments!'\n",
    "\n",
    "user_plate_selection = {'e': False, 'f': True, 'g': False, 'h': False, 'i': False, 'j': False, 'k': True, 'l': True, 'tf': False, 'fe': True}\n"
   ]
  },
  {
   "cell_type": "code",
   "execution_count": null,
   "metadata": {},
   "outputs": [],
   "source": []
  },
  {
   "cell_type": "code",
   "execution_count": 4,
   "metadata": {},
   "outputs": [],
   "source": [
    "#### !!!!!!\n",
    "def wrapper_make_template(selection, project_name, experiment_name, additional_comments, file_format='csv'):\n",
    "    sample_sheet = ''\n",
    "    filename = ''\n",
    "\n",
    "    # Iterate through the selection, if a key is true, add it to the sample sheet.\n",
    "    # If the key is tf (24) or fe (48), handle it accordingle\n",
    "\n",
    "    for flavour, value in selection.items():\n",
    "        # If the selection is false, continue\n",
    "        if not value:\n",
    "            continue\n",
    "        # If the key is 24/48 act accordingly\n",
    "        if flavour == 'tf':\n",
    "            import_df = pd.DataFrame.from_dict(different_24_dict)\n",
    "            string = import_df.to_csv(index=False)\n",
    "            \n",
    "        elif flavour == 'fe':\n",
    "            import_df = pd.DataFrame.from_dict(different_48_dict)\n",
    "            string = import_df.to_csv(index=False)\n",
    "        \n",
    "        else:\n",
    "            # Standard 96 well plate, add flavour to it\n",
    "            import_df = pd.DataFrame.from_dict(different_96_dict)\n",
    "            new_cols = [x if not x.startswith('Unnamed') else flavour for x in import_df.columns]\n",
    "            import_df.columns = new_cols\n",
    "\n",
    "            string = import_df.to_csv(index=False)\n",
    "\n",
    "        #Append string to sample sheet collective string + new line\n",
    "        sample_sheet += string + ',,,,,,,,,,,,\\n'\n",
    "\n",
    "\n",
    "    # Add metadata to sample sheet\n",
    "    metadata = f\"\"\"Project Name,{project_name},,,,,,,,,,,\\nExperiment Name,{experiment_name},,,,,,,,,,,\\nComments,{additional_comments},,,,,,,,,,,\\n\"\"\"\n",
    "    sample_sheet = metadata + sample_sheet\n",
    "\n",
    "    project_name = project_name.replace(' ', '_')\n",
    "    filename = f'template_{project_name}.{file_format}'\n",
    "\n",
    "    return filename, sample_sheet\n"
   ]
  },
  {
   "cell_type": "code",
   "execution_count": 5,
   "metadata": {},
   "outputs": [],
   "source": [
    "filename, sample_sheet = wrapper_make_template(user_plate_selection, user_project_name, user_experiment_name, user_additional_comments)"
   ]
  },
  {
   "cell_type": "code",
   "execution_count": 6,
   "metadata": {},
   "outputs": [],
   "source": [
    "with open('delete_now.csv', 'w') as file:\n",
    "    file.write(sample_sheet)\n"
   ]
  },
  {
   "cell_type": "code",
   "execution_count": null,
   "metadata": {},
   "outputs": [],
   "source": []
  },
  {
   "cell_type": "code",
   "execution_count": null,
   "metadata": {},
   "outputs": [],
   "source": []
  },
  {
   "attachments": {},
   "cell_type": "markdown",
   "metadata": {},
   "source": [
    "# User uploads template\n",
    "\n",
    "_Persisting from before:_\n",
    "- Project name\n",
    "- Experiment name\n",
    "- Comments \n",
    "- Flavours\n",
    "\n",
    "_Requires user_ \n",
    "- Pick an instrument and the type of sample sheet required!\n",
    "\n",
    "_In background_\n",
    "- Sanity checks eg \n",
    "    - Checks number of samples\n",
    "    - Checks number of blanks/controls\n",
    "    - Checks no samples start with underscore (_)\n",
    "\n",
    "_Processes:_\n",
    "- Read file in, extract different tables with flavours and return it for it to display\n",
    "- Pre process complete sample sheet?\n",
    "- Get user selection and produce sample\n",
    "\n"
   ]
  },
  {
   "cell_type": "code",
   "execution_count": 7,
   "metadata": {},
   "outputs": [],
   "source": [
    "# Obtain information from the upload file and extract tables, reports and metadata\n",
    "def wrapper_handle_upload(content, filename):\n",
    "    #Checks before the function starts for filename and content\n",
    "    if filename is not None and filename.split('.')[1] != 'csv':\n",
    "        #return genericLabelWrapper(\"Please only upload 'csv' files\"), None\n",
    "        return \"Please only upload 'csv' files\", None, None\n",
    "    if content is None:\n",
    "        # return genericLabelWrapper('The content of the file you uploaded is not valid'), None\n",
    "        return 'The content of the file you uploaded is not valid', None, None\n",
    "        \n",
    "    \n",
    "    # Handle file\n",
    "    # UNCOMMENT THIS!!!!!!!!!!!!!!!!!!!!!!!!!!!!!!!!!!!!!!!!!!!!!!!!!!!!!\n",
    "    # content_type, content_string = content.split(',')\n",
    "    # decoded_content = b64decode(content_string)\n",
    "    \n",
    "    # file_content = StringIO(decoded_content.decode('utf-8')).readlines()\n",
    "    file_content = content\n",
    "\n",
    "\n",
    "    # Slice metadata eg first 3 lines\n",
    "    metadata = file_content[:3]\n",
    "    # convert metadata\n",
    "    metadata_dict = get_metadata(metadata)\n",
    "\n",
    "    \n",
    "    # Get rest of file, read it in with pandas and get the tables\n",
    "    file_string = ''.join(file_content[3:])\n",
    "    # Read file in with pandas\n",
    "    df = pd.read_csv(StringIO(file_string), header=None)\n",
    "    # Helper function to extract the tables and return it in dictionary where flavour:df\n",
    "    tables = get_tables(df)\n",
    "\n",
    "    # Perform checks on tables\n",
    "    checks_tables = {key:check_table(value) for key, value in tables.items()}\n",
    "\n",
    "    return tables, checks_tables, metadata_dict\n",
    "\n"
   ]
  },
  {
   "cell_type": "code",
   "execution_count": 8,
   "metadata": {},
   "outputs": [],
   "source": [
    "filename = 'delete_now.csv'\n",
    "\n",
    "# Read file in \n",
    "with open(filename, 'r') as file:\n",
    "    file_content = file.readlines()\n"
   ]
  },
  {
   "cell_type": "code",
   "execution_count": 9,
   "metadata": {},
   "outputs": [],
   "source": [
    "#!!!!!!!!!!!!!!!!!!!!!!!!\n",
    "tables, reports, metadata_dict = wrapper_handle_upload(file_content, filename)"
   ]
  },
  {
   "cell_type": "code",
   "execution_count": null,
   "metadata": {},
   "outputs": [],
   "source": []
  },
  {
   "attachments": {},
   "cell_type": "markdown",
   "metadata": {},
   "source": [
    "# Final step, prepare sample sheet based on requested machinery/format and submit!\n",
    "\n",
    "_Required from user_\n",
    "- Machinery selection\n",
    "- Option to download\n",
    "\n",
    "_Steps_:\n",
    "- Get user input\n",
    "- Get user's tables and metadata\n",
    "- Melt everything in wrapper function that returns filename and file content\n",
    "\n",
    "\n",
    "NEED TO ADD SOMETHING TO APPEND THE 24/48 well plates"
   ]
  },
  {
   "cell_type": "code",
   "execution_count": 10,
   "metadata": {},
   "outputs": [],
   "source": [
    "# Data recouped from before \n",
    "metadata_dict = metadata_dict\n",
    "tables = tables\n",
    "project_name = metadata_dict['project_name']\n",
    "experiment_name = metadata_dict['experiment_name']\n",
    "comments = metadata_dict['comments']"
   ]
  },
  {
   "cell_type": "code",
   "execution_count": 11,
   "metadata": {},
   "outputs": [],
   "source": [
    "# User selections\n",
    "user_machinery_selection = 'mi_seq'\n",
    "user_sheet_complete = True\n"
   ]
  },
  {
   "cell_type": "code",
   "execution_count": 12,
   "metadata": {},
   "outputs": [],
   "source": [
    "def add_tf_fe(sample_sheet, table):\n",
    "    flavour, table = table\n",
    "\n",
    "    print(flavour, table)\n",
    "\n",
    "\n",
    "\n",
    "\n",
    "\n",
    "\n",
    "#\"Sample_ID\",\"Sample_Name\",\"Sample_Plate\",\"Sample_Well\",\"I7_Index_ID\",\"index\",\"I5_Index_ID\",\"index2\",\"Sample_Project\",\"Description\"\n",
    "#1,sample,F,A01,R936,TGGAACGCT,F904,CTAATGCAC,,\n"
   ]
  },
  {
   "cell_type": "code",
   "execution_count": 13,
   "metadata": {},
   "outputs": [],
   "source": [
    "# Start wrapper\n",
    "\n",
    "# Get the complete sample sheet\n",
    "def wrapper_create_complete_sample_sheet(tables, complete, machinery, project, experiment, comments):\n",
    "    # Handle the presence of 24/48 plates\n",
    "    tf_or_fe = None\n",
    "    # Retain 24/48 well layouts and produce the sample sheet for the rest\n",
    "    if 'tf' in tables.keys():\n",
    "        tf_or_fe = ('tf', tables['tf']) \n",
    "        del tables['tf']\n",
    "    if 'fe' in tables.keys():\n",
    "        tf_or_fe = ('fe', tables['fe']) \n",
    "        del tables['fe']\n",
    "\n",
    "    # Get body of sample sheet\n",
    "    sample_sheet_body = get_sample_sheet_body(tables, complete)\n",
    "\n",
    "    # Append 24/48 plate to it\n",
    "    # if tf_or_fe:\n",
    "    #     sample_sheet_body = add_tf_fe(sample_sheet_body, tf_or_fe)\n",
    "\n",
    "\n",
    "\n",
    "    # Make header and adapt file based on machine chosen\n",
    "    header = None\n",
    "    filename=None\n",
    "    # \n",
    "    if machinery == 'hi_seq':\n",
    "        # The header is basically empty\n",
    "        header = make_hiseq_header()\n",
    "        filename = f'{project}_SR_HS{\"_all_primers\" if complete else \"\"}.csv'\n",
    "        # File does not change\n",
    "    #\n",
    "    elif machinery == 'mini_seq':\n",
    "        # Header only has experiment \n",
    "        header = make_miniseq_header(experiment)\n",
    "        # Refactor the columns to reduce them to the required number\n",
    "        sheet = sheet[['Sample_ID', 'Description', 'I7_Index_ID', 'index', 'I5_Index_ID', 'index2', 'Sample_Project']]\n",
    "        filename = f'{project}_MiniSeq{\"_all_primers\" if complete else \"\"}.csv'\n",
    "    #\n",
    "    elif machinery == 'mi_seq':\n",
    "        # Nothing special\n",
    "        header = make_miseq_header(project, experiment, comments)\n",
    "        filename = f'{project}_SR_MS{\"_all_primers\" if complete else \"\"}.csv'\n",
    "    #\n",
    "    elif machinery == 'next_seq':\n",
    "        header = make_nextseq_header(project, experiment, comments)\n",
    "        # Next seq requires reverse I5, map the index names to the correct sequence from the dictionary\n",
    "        sheet['index2'] = sheet['I5_Index_ID'].map(f_primers_to_reverse_complement)\n",
    "        filename = f'{project}_PE_NS{\"_all_primers\" if complete else \"\"}.csv'\n",
    "    else:\n",
    "        raise Exception('I do not recognise this machinery instrument!')\n",
    "\n",
    "    text = header + sample_sheet_body.to_csv(index=False, header=False)\n",
    "\n",
    "    return filename, text\n",
    "\n",
    "\n",
    "\n",
    "\n",
    "    \n"
   ]
  },
  {
   "cell_type": "code",
   "execution_count": null,
   "metadata": {},
   "outputs": [],
   "source": []
  },
  {
   "cell_type": "code",
   "execution_count": 15,
   "metadata": {},
   "outputs": [],
   "source": [
    "filename,sample_sheet = wrapper_create_complete_sample_sheet(tables, user_sheet_complete, user_machinery_selection, user_project_name, user_experiment_name, user_additional_comments)"
   ]
  },
  {
   "cell_type": "code",
   "execution_count": null,
   "metadata": {},
   "outputs": [],
   "source": [
    "with open('sample_sheet', 'w') as file:\n",
    "    file.write(sample_sheet)"
   ]
  },
  {
   "cell_type": "code",
   "execution_count": null,
   "metadata": {},
   "outputs": [],
   "source": []
  },
  {
   "cell_type": "code",
   "execution_count": null,
   "metadata": {},
   "outputs": [],
   "source": []
  },
  {
   "cell_type": "code",
   "execution_count": null,
   "metadata": {},
   "outputs": [],
   "source": []
  },
  {
   "cell_type": "code",
   "execution_count": null,
   "metadata": {},
   "outputs": [],
   "source": []
  },
  {
   "cell_type": "code",
   "execution_count": null,
   "metadata": {},
   "outputs": [],
   "source": []
  },
  {
   "cell_type": "code",
   "execution_count": null,
   "metadata": {},
   "outputs": [],
   "source": [
    "# LEFT TO DO\n",
    "# ADD THE 24/48 (Complete function)\n",
    "# Perform checks to see if everything is correct\n",
    "# Implement in app"
   ]
  },
  {
   "cell_type": "code",
   "execution_count": null,
   "metadata": {},
   "outputs": [],
   "source": []
  }
 ],
 "metadata": {
  "kernelspec": {
   "display_name": "Python 3",
   "language": "python",
   "name": "python3"
  },
  "language_info": {
   "codemirror_mode": {
    "name": "ipython",
    "version": 3
   },
   "file_extension": ".py",
   "mimetype": "text/x-python",
   "name": "python",
   "nbconvert_exporter": "python",
   "pygments_lexer": "ipython3",
   "version": "3.9.13"
  },
  "orig_nbformat": 4,
  "vscode": {
   "interpreter": {
    "hash": "aee8b7b246df8f9039afb4144a1f6fd8d2ca17a180786b69acc140d282b71a49"
   }
  }
 },
 "nbformat": 4,
 "nbformat_minor": 2
}
