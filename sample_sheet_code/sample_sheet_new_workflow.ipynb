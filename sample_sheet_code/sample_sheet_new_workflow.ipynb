{
 "cells": [
  {
   "cell_type": "code",
   "execution_count": 1,
   "metadata": {},
   "outputs": [],
   "source": [
    "# Necessary imports of functions and dictionaries\n",
    "# from dictionaries import *\n",
    "# from sample_sheet_functions import *\n",
    "import pandas as pd\n",
    "from io import StringIO\n",
    "from base64 import b64decode\n",
    "import re\n",
    "\n",
    "\n",
    "# Specific imports to clean up files\n",
    "from dictionaries import different_24_dict, different_48_dict, different_96_dict, complete_sample_sheet_string, make_hiseq_header, make_miniseq_header, make_miseq_header, make_nextseq_header, f_primers_to_reverse_complement, flavours_list\n",
    "from dash_sample_sheet_functions import *\n"
   ]
  },
  {
   "attachments": {},
   "cell_type": "markdown",
   "metadata": {},
   "source": [
    "###### For future\n",
    "- Give possibility to download/upload in CSV/XLSX\n",
    "- Table shows string on tooltip\n",
    "- Table captures with a regular expression the sample name prefixes\n"
   ]
  },
  {
   "attachments": {},
   "cell_type": "markdown",
   "metadata": {},
   "source": [
    "# User download for template\n",
    "_User Required to_\n",
    "- Pick the table flavours they want (in form of dictionary key:True/False)\n",
    "- Add project name, experiment name and additional comments (Now all stored in sample sheet template)"
   ]
  },
  {
   "cell_type": "code",
   "execution_count": 2,
   "metadata": {},
   "outputs": [],
   "source": [
    "# Essential input\n",
    "plates_options = {'24': False, '48': False, 'e': False, 'f': False, 'g': False, 'h': False, 'i': False, 'j': False, 'k': False, 'l': False}\n",
    "project_name = ''\n",
    "\n",
    "# Non-essential\n",
    "experiment_name = ''\n",
    "additional_comments = ''\n",
    "\n",
    "file_format=None #Needs to be done at some point"
   ]
  },
  {
   "cell_type": "code",
   "execution_count": 3,
   "metadata": {},
   "outputs": [],
   "source": [
    "# User input simulation\n",
    "user_project_name = 'user project'\n",
    "user_experiment_name = 'this is my project'\n",
    "user_additional_comments = 'i want more space for the comments!'\n",
    "\n",
    "user_plate_selection = {'e': False, 'f': True, 'g': False, 'h': True, 'i': False, 'j': False, 'k': True, 'l': True, 'tf': True, 'fe': False}\n"
   ]
  },
  {
   "cell_type": "code",
   "execution_count": null,
   "metadata": {},
   "outputs": [],
   "source": []
  },
  {
   "cell_type": "code",
   "execution_count": 4,
   "metadata": {},
   "outputs": [],
   "source": [
    "filename, sample_sheet = wrapper_make_template(user_plate_selection, user_project_name, user_experiment_name, user_additional_comments)"
   ]
  },
  {
   "cell_type": "code",
   "execution_count": 5,
   "metadata": {},
   "outputs": [],
   "source": [
    "# with open('delete_now.csv', 'w') as file:\n",
    "#     file.write(sample_sheet)\n"
   ]
  },
  {
   "cell_type": "code",
   "execution_count": null,
   "metadata": {},
   "outputs": [],
   "source": []
  },
  {
   "cell_type": "code",
   "execution_count": null,
   "metadata": {},
   "outputs": [],
   "source": []
  },
  {
   "attachments": {},
   "cell_type": "markdown",
   "metadata": {},
   "source": [
    "# User uploads template\n",
    "\n",
    "_Persisting from before:_\n",
    "- Project name\n",
    "- Experiment name\n",
    "- Comments \n",
    "- Flavours\n",
    "\n",
    "_Requires user_ \n",
    "- Pick an instrument and the type of sample sheet required!\n",
    "\n",
    "_In background_\n",
    "- Sanity checks eg \n",
    "    - Checks number of samples\n",
    "    - Checks number of blanks/controls\n",
    "    - Checks no samples start with underscore (_)\n",
    "\n",
    "_Processes:_\n",
    "- Read file in, extract different tables with flavours and return it for it to display\n",
    "- Pre process complete sample sheet?\n",
    "- Get user selection and produce sample\n",
    "\n"
   ]
  },
  {
   "cell_type": "code",
   "execution_count": 6,
   "metadata": {},
   "outputs": [],
   "source": [
    "#filename = 'delete_now.csv'\n",
    "#filename = '96_well_template_4_plates.csv'\n",
    "filename = 'template_Myproject.csv'\n",
    "\n",
    "\n",
    "# Read file in \n",
    "with open(filename, 'r') as file:\n",
    "    file_content = file.readlines()\n"
   ]
  },
  {
   "cell_type": "code",
   "execution_count": null,
   "metadata": {},
   "outputs": [],
   "source": []
  },
  {
   "cell_type": "code",
   "execution_count": null,
   "metadata": {},
   "outputs": [],
   "source": []
  },
  {
   "cell_type": "code",
   "execution_count": 7,
   "metadata": {},
   "outputs": [],
   "source": [
    "#!!!!!!!!!!!!!!!!!!!!!!!!\n",
    "tables, reports, metadata_dict, repeats = wrapper_handle_upload(file_content, filename)\n",
    "\n",
    "# Check no two sample names are the same "
   ]
  },
  {
   "cell_type": "code",
   "execution_count": 8,
   "metadata": {},
   "outputs": [
    {
     "data": {
      "text/plain": [
       "{}"
      ]
     },
     "execution_count": 8,
     "metadata": {},
     "output_type": "execute_result"
    }
   ],
   "source": [
    "repeats # its the check"
   ]
  },
  {
   "cell_type": "code",
   "execution_count": 9,
   "metadata": {},
   "outputs": [
    {
     "data": {
      "text/plain": [
       "{'Plate_E': {'blanks': 0,\n",
       "  'positive_controls': 0,\n",
       "  'negative_controls': 0,\n",
       "  'to_change': [],\n",
       "  'total_samples': 96,\n",
       "  'unique_sample_names': 96,\n",
       "  'something_wrong': False},\n",
       " 'Plate_I': {'blanks': 0,\n",
       "  'positive_controls': 0,\n",
       "  'negative_controls': 0,\n",
       "  'to_change': [],\n",
       "  'total_samples': 96,\n",
       "  'unique_sample_names': 96,\n",
       "  'something_wrong': False},\n",
       " 'Plate_J': {'blanks': 0,\n",
       "  'positive_controls': 0,\n",
       "  'negative_controls': 0,\n",
       "  'to_change': [],\n",
       "  'total_samples': 96,\n",
       "  'unique_sample_names': 96,\n",
       "  'something_wrong': False},\n",
       " 'Plate_24': {'blanks': 72,\n",
       "  'positive_controls': 0,\n",
       "  'negative_controls': 0,\n",
       "  'to_change': [],\n",
       "  'total_samples': 24,\n",
       "  'unique_sample_names': 24,\n",
       "  'something_wrong': False}}"
      ]
     },
     "execution_count": 9,
     "metadata": {},
     "output_type": "execute_result"
    }
   ],
   "source": [
    "reports"
   ]
  },
  {
   "cell_type": "code",
   "execution_count": null,
   "metadata": {},
   "outputs": [],
   "source": []
  },
  {
   "cell_type": "code",
   "execution_count": 10,
   "metadata": {},
   "outputs": [],
   "source": [
    "# value = check_no_duplicates_or_unwanted_chars(tables)\n",
    "# value"
   ]
  },
  {
   "cell_type": "code",
   "execution_count": null,
   "metadata": {},
   "outputs": [],
   "source": []
  },
  {
   "cell_type": "code",
   "execution_count": null,
   "metadata": {},
   "outputs": [],
   "source": []
  },
  {
   "attachments": {},
   "cell_type": "markdown",
   "metadata": {},
   "source": [
    "# Final step, prepare sample sheet based on requested machinery/format and submit!\n",
    "\n",
    "_Required from user_\n",
    "- Machinery selection\n",
    "- Option to download\n",
    "\n",
    "_Steps_:\n",
    "- Get user input\n",
    "- Get user's tables and metadata\n",
    "- Melt everything in wrapper function that returns filename and file content\n",
    "\n",
    "\n",
    "NEED TO ADD SOMETHING TO APPEND THE 24/48 well plates"
   ]
  },
  {
   "cell_type": "code",
   "execution_count": 11,
   "metadata": {},
   "outputs": [],
   "source": [
    "# Data recouped from before \n",
    "metadata_dict = metadata_dict\n",
    "tables = tables\n",
    "project_name = metadata_dict['project_name']\n",
    "experiment_name = metadata_dict['experiment_name']\n",
    "comments = metadata_dict['comments']"
   ]
  },
  {
   "cell_type": "code",
   "execution_count": 12,
   "metadata": {},
   "outputs": [],
   "source": [
    "possible_machinery_selection_forward_strand = ['mini_seq_standard_reagent', 'mi_seq', 'hi_seq_2500', 'hi_seq_2000','nova_seq_6000_v_1.5']\n",
    "\n",
    "possible_machinery_selection_reverse_strand = ['iSeq', 'next_seq_system', 'hi_seq_x', 'hi_seq_4000', 'hi_seq_3000', 'mini_seq_rapid_reagent', 'nova_seq_6000_v_1.0']"
   ]
  },
  {
   "cell_type": "code",
   "execution_count": 13,
   "metadata": {},
   "outputs": [],
   "source": [
    "# User selections\n",
    "user_machinery_selection = 'mini_seq_standard'\n",
    "user_sheet_complete = False\n",
    "\n",
    "\n",
    "# User description file?\n",
    "\n"
   ]
  },
  {
   "cell_type": "code",
   "execution_count": 14,
   "metadata": {},
   "outputs": [],
   "source": [
    "# Wrapper create complete sample sheet!!\n",
    "def wrapper_create_complete_sample_sheet(tables, complete, machinery, project, experiment, comments):\n",
    "    # Declare list of machineries based on required I5 index\n",
    "    possible_machinery_selection_forward_strand = ['mini_seq_standard', 'mi_seq', 'hi_seq_2500', 'hi_seq_2000','nova_seq_6000_v_1.5']\n",
    "    possible_machinery_selection_reverse_strand = ['iSeq', 'next_seq_system', 'hi_seq_x', 'hi_seq_4000', 'hi_seq_3000', 'mini_seq', 'nova_seq_6000_v_1.0']\n",
    "\n",
    "    #Determine if the reverse complement is required!\n",
    "    if machinery in possible_machinery_selection_forward_strand:\n",
    "        reverse_complement = False\n",
    "    elif machinery in possible_machinery_selection_reverse_strand:\n",
    "        reverse_complement = True\n",
    "    else:\n",
    "        raise Exception('Machinery not recognised!')\n",
    "    \n",
    "\n",
    "    # Handle the presence of 24/48 plates\n",
    "    tf_or_fe = None\n",
    "    # Retain 24/48 well layouts, if any, and produce the sample sheet for the rest before\n",
    "    if 'Plate_24' in tables.keys():\n",
    "        tf_or_fe = ('Plate_24', tables['Plate_24']) \n",
    "        del tables['Plate_24']\n",
    "    if 'Plate_48' in tables.keys():\n",
    "        tf_or_fe = ('Plate_48', tables['Plate_48']) \n",
    "        del tables['Plate_48']\n",
    "    \n",
    "    # Make header from standard one\n",
    "    header = make_generic_header(project, experiment, comments, machinery)\n",
    "\n",
    "    # Get body of sample sheet\n",
    "    sample_sheet_body = get_sample_sheet_body(tables, complete)\n",
    "\n",
    "    # Make filename string starting from project name\n",
    "    # If the filename has spaces in it, replace it with underscores\n",
    "    project_name = project if ' ' not in project else project.replace(' ', '_')\n",
    "    filename = f'{project_name}_sample_sheet{\"_all_primers\" if complete else \"\"}.csv'\n",
    "    \n",
    "    # IF the machinery requires REVERSE I5, substitute it in the sample sheet!\n",
    "    # (map index names to correct sequence from the dictionary)\n",
    "    if reverse_complement:\n",
    "        sample_sheet_body['index2'] = sample_sheet_body['I5_Index_ID'].map(f_primers_to_reverse_complement)\n",
    "\n",
    "    # Append 24/48 plate to it, if any\n",
    "    if tf_or_fe:\n",
    "        sample_sheet_body = add_tf_fe(sample_sheet_body, tf_or_fe, reverse_complement)\n",
    "\n",
    "    # At this point in the old versions, you'd reduce the number of cols for mini_seq, given that we're standardising we won't (won't break the pipeline)\n",
    "    \n",
    "    #Prepare text to return\n",
    "    text = header + sample_sheet_body.to_csv(index=False, header=False)\n",
    "\n",
    "    return filename, text\n"
   ]
  },
  {
   "cell_type": "code",
   "execution_count": 15,
   "metadata": {},
   "outputs": [],
   "source": [
    "filename,sample_sheet = wrapper_create_complete_sample_sheet(tables, user_sheet_complete, user_machinery_selection, user_project_name, user_experiment_name, user_additional_comments)"
   ]
  },
  {
   "cell_type": "code",
   "execution_count": 16,
   "metadata": {},
   "outputs": [],
   "source": [
    "with open('sample_sheet.csv', 'w') as file:\n",
    "    file.write(sample_sheet)"
   ]
  },
  {
   "cell_type": "code",
   "execution_count": 17,
   "metadata": {},
   "outputs": [],
   "source": [
    "####### IT WORKS!!!! TRANSFER IT OVER (NEW SELF EXPLAINING NAMES)"
   ]
  },
  {
   "cell_type": "code",
   "execution_count": null,
   "metadata": {},
   "outputs": [],
   "source": []
  },
  {
   "cell_type": "code",
   "execution_count": 18,
   "metadata": {},
   "outputs": [
    {
     "data": {
      "text/plain": [
       "'no'"
      ]
     },
     "execution_count": 18,
     "metadata": {},
     "output_type": "execute_result"
    }
   ],
   "source": [
    "# Get prefix\n",
    "\n",
    "l = ['nomad', 'normal', 'nonstop', 'noob']\n",
    "\n",
    "def common_prefix(lst):\n",
    "    for s in zip(*lst):\n",
    "        if len(set(s)) == 1:\n",
    "            yield s[0]\n",
    "        else:\n",
    "            return\n",
    "\n",
    "result = ''.join(common_prefix(l))\n",
    "result"
   ]
  },
  {
   "cell_type": "code",
   "execution_count": null,
   "metadata": {},
   "outputs": [],
   "source": []
  },
  {
   "cell_type": "code",
   "execution_count": null,
   "metadata": {},
   "outputs": [],
   "source": []
  },
  {
   "cell_type": "code",
   "execution_count": 19,
   "metadata": {},
   "outputs": [],
   "source": [
    "# LEFT TO DO\n",
    "# ADD THE 24/48 (Complete function) (you have dictionaries to map already)\n",
    "# Perform checks to see if everything is correct\n",
    "# Implement in app"
   ]
  },
  {
   "cell_type": "code",
   "execution_count": null,
   "metadata": {},
   "outputs": [],
   "source": []
  }
 ],
 "metadata": {
  "kernelspec": {
   "display_name": "Python 3",
   "language": "python",
   "name": "python3"
  },
  "language_info": {
   "codemirror_mode": {
    "name": "ipython",
    "version": 3
   },
   "file_extension": ".py",
   "mimetype": "text/x-python",
   "name": "python",
   "nbconvert_exporter": "python",
   "pygments_lexer": "ipython3",
   "version": "3.11.2"
  },
  "orig_nbformat": 4,
  "vscode": {
   "interpreter": {
    "hash": "aee8b7b246df8f9039afb4144a1f6fd8d2ca17a180786b69acc140d282b71a49"
   }
  }
 },
 "nbformat": 4,
 "nbformat_minor": 2
}
