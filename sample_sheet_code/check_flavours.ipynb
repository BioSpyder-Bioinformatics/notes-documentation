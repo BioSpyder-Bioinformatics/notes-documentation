{
 "cells": [
  {
   "cell_type": "code",
   "execution_count": 1,
   "metadata": {},
   "outputs": [],
   "source": [
    "# 24 and 48 well plates flavours combo\n",
    "\n",
    "plate_24_index_i7 = ['R807', 'R807', 'R807', 'R807', 'R807', 'R807', 'R903', 'R903', 'R903', 'R903', 'R903', 'R903', 'R904', 'R904', 'R904', 'R904', 'R904', 'R904', 'R905', 'R905', 'R905', 'R905', 'R905', 'R905']\n",
    "\n",
    "plate_24_index2_i5 = ['F803', 'F807', 'F812', 'F814', 'F815', 'F902', 'F803', 'F807', 'F812', 'F814', 'F815', 'F902', 'F803', 'F807', 'F812', 'F814', 'F815', 'F902', 'F803', 'F807', 'F812', 'F814', 'F815', 'F902']\n",
    "\n",
    "zipped_24 = list(zip(plate_24_index2_i5, plate_24_index_i7))\n",
    "\n",
    "\n",
    "\n",
    "plate_48_index_i7 = ['R807', 'R807', 'R807', 'R807', 'R807', 'R807', 'R807', 'R807', 'R814', 'R814', 'R814', 'R814', 'R814', 'R814', 'R814', 'R814', 'R903', 'R903', 'R903', 'R903', 'R903', 'R903', 'R903', 'R903', 'R904', 'R904', 'R904', 'R904', 'R904', 'R904', 'R904', 'R904', 'R905', 'R905', 'R905', 'R905', 'R905', 'R905', 'R905', 'R905', 'R907', 'R907', 'R907', 'R907', 'R907', 'R907', 'R907', 'R907']\n",
    "\n",
    "plate_48_index2_i5 = ['F803', 'F807', 'F811', 'F812', 'F814', 'F815', 'F902', 'F914', 'F803', 'F807', 'F811', 'F812', 'F814', 'F815', 'F902', 'F914', 'F803', 'F807', 'F811', 'F812', 'F814', 'F815', 'F902', 'F914', 'F803', 'F807', 'F811', 'F812', 'F814', 'F815', 'F902', 'F914', 'F803', 'F807', 'F811', 'F812', 'F814', 'F815', 'F902', 'F914', 'F803', 'F807', 'F811', 'F812', 'F814', 'F815', 'F902', 'F914']\n",
    "\n",
    "zipped_48 = list(zip(plate_48_index2_i5, plate_48_index_i7))"
   ]
  },
  {
   "cell_type": "code",
   "execution_count": 2,
   "metadata": {},
   "outputs": [
    {
     "name": "stdout",
     "output_type": "stream",
     "text": [
      "CLASH! ('F803', 'R807') ('F803', 'R807')\n",
      "CLASH! ('F807', 'R807') ('F807', 'R807')\n",
      "CLASH! ('F812', 'R807') ('F812', 'R807')\n",
      "CLASH! ('F814', 'R807') ('F814', 'R807')\n",
      "CLASH! ('F815', 'R807') ('F815', 'R807')\n",
      "CLASH! ('F902', 'R807') ('F902', 'R807')\n",
      "CLASH! ('F803', 'R903') ('F803', 'R903')\n",
      "CLASH! ('F807', 'R903') ('F807', 'R903')\n",
      "CLASH! ('F812', 'R903') ('F812', 'R903')\n",
      "CLASH! ('F814', 'R903') ('F814', 'R903')\n",
      "CLASH! ('F815', 'R903') ('F815', 'R903')\n",
      "CLASH! ('F902', 'R903') ('F902', 'R903')\n",
      "CLASH! ('F803', 'R904') ('F803', 'R904')\n",
      "CLASH! ('F807', 'R904') ('F807', 'R904')\n",
      "CLASH! ('F812', 'R904') ('F812', 'R904')\n",
      "CLASH! ('F814', 'R904') ('F814', 'R904')\n",
      "CLASH! ('F815', 'R904') ('F815', 'R904')\n",
      "CLASH! ('F902', 'R904') ('F902', 'R904')\n",
      "CLASH! ('F803', 'R905') ('F803', 'R905')\n",
      "CLASH! ('F807', 'R905') ('F807', 'R905')\n",
      "CLASH! ('F812', 'R905') ('F812', 'R905')\n",
      "CLASH! ('F814', 'R905') ('F814', 'R905')\n",
      "CLASH! ('F815', 'R905') ('F815', 'R905')\n",
      "CLASH! ('F902', 'R905') ('F902', 'R905')\n"
     ]
    }
   ],
   "source": [
    "for flavour_24 in zipped_24:\n",
    "    for flavour_48 in zipped_48:\n",
    "        if flavour_24 == flavour_48:\n",
    "            print('CLASH!', flavour_24, flavour_48)\n",
    "            "
   ]
  },
  {
   "cell_type": "code",
   "execution_count": 3,
   "metadata": {},
   "outputs": [],
   "source": [
    "from dictionaries import *"
   ]
  },
  {
   "cell_type": "code",
   "execution_count": 7,
   "metadata": {},
   "outputs": [],
   "source": [
    "# Check plate \n",
    "\n",
    "\n",
    "def check_plate(plate):\n",
    "    for flavour_24 in zipped_24:\n",
    "        for key, value in plate.items():\n",
    "            if flavour_24 == value:\n",
    "                print('CLASHHHHH with 24', key, flavour_24, value)\n",
    "            \n",
    "    \n",
    "    for flavour_48 in zipped_48:\n",
    "        for key, value in plate.items():\n",
    "            if flavour_48 == value:\n",
    "                print('CLASSHHH with 48', key, flavour_48, value)\n",
    "           \n"
   ]
  },
  {
   "cell_type": "code",
   "execution_count": 8,
   "metadata": {},
   "outputs": [
    {
     "name": "stdout",
     "output_type": "stream",
     "text": [
      "Processing  E\n",
      "Processing  F\n",
      "Processing  G\n",
      "Processing  H\n",
      "Processing  I\n",
      "Processing  J\n",
      "Processing  K\n",
      "Processing  L\n"
     ]
    }
   ],
   "source": [
    "for key, item in flavours_list.items():\n",
    "    print('Processing ', key)\n",
    "    check_plate(item)"
   ]
  },
  {
   "cell_type": "code",
   "execution_count": 6,
   "metadata": {},
   "outputs": [
    {
     "data": {
      "text/plain": [
       "dict_keys(['E', 'F', 'G', 'H', 'I', 'J', 'K', 'L'])"
      ]
     },
     "execution_count": 6,
     "metadata": {},
     "output_type": "execute_result"
    }
   ],
   "source": [
    "flavours_list.keys()"
   ]
  },
  {
   "cell_type": "code",
   "execution_count": null,
   "metadata": {},
   "outputs": [],
   "source": []
  },
  {
   "cell_type": "code",
   "execution_count": null,
   "metadata": {},
   "outputs": [],
   "source": []
  }
 ],
 "metadata": {
  "kernelspec": {
   "display_name": "Python 3",
   "language": "python",
   "name": "python3"
  },
  "language_info": {
   "codemirror_mode": {
    "name": "ipython",
    "version": 3
   },
   "file_extension": ".py",
   "mimetype": "text/x-python",
   "name": "python",
   "nbconvert_exporter": "python",
   "pygments_lexer": "ipython3",
   "version": "3.9.13"
  },
  "orig_nbformat": 4,
  "vscode": {
   "interpreter": {
    "hash": "aee8b7b246df8f9039afb4144a1f6fd8d2ca17a180786b69acc140d282b71a49"
   }
  }
 },
 "nbformat": 4,
 "nbformat_minor": 2
}
